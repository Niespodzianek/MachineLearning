{
 "cells": [
  {
   "cell_type": "markdown",
   "id": "abc007bd",
   "metadata": {},
   "source": [
    "## Import bibliotek."
   ]
  },
  {
   "cell_type": "code",
   "execution_count": 1,
   "id": "350ef50e",
   "metadata": {},
   "outputs": [],
   "source": [
    "import numpy as np\n",
    "import pandas as pd\n",
    "\n",
    "import seaborn as sns\n",
    "import matplotlib.pyplot as plt\n",
    "sns.set_style('whitegrid')\n",
    "\n",
    "from sklearn.linear_model import LinearRegression\n",
    "from sklearn.metrics import mean_squared_error\n",
    "from sklearn.model_selection import train_test_split\n",
    "from sklearn.tree import DecisionTreeRegressor\n",
    "from sklearn.model_selection import GridSearchCV\n",
    "from sklearn import tree"
   ]
  },
  {
   "cell_type": "markdown",
   "id": "5867b79e",
   "metadata": {},
   "source": [
    "## Ćwiczenie 1.\n",
    "Wczytajamy zbiory dotyczące danych sprzedażowych \"Produktu A\"."
   ]
  },
  {
   "cell_type": "code",
   "execution_count": 2,
   "id": "a27b2c87",
   "metadata": {},
   "outputs": [],
   "source": [
    "tr = pd.read_parquet('dane/tr.parquet')\n",
    "va = pd.read_parquet('dane/va.parquet')"
   ]
  },
  {
   "cell_type": "markdown",
   "id": "dbbc4d86",
   "metadata": {},
   "source": [
    "#### 1.1. Rzuć okiem na zbiór. Odrzuć niepotrzebne kolumny.\n",
    "\n",
    "**Zanim zaczniesz, przeczytaj proszę wnioski z poprzednich zajęć, które podsumowałem poniżej.**\n",
    "\n",
    "---\n",
    "Dla przypomnienia, wnioski z poprzednich zajęć i analizy zbioru uczącego:\n",
    "* Najmocniej skorelowana ze zmienną celu: \"srednia_sprzedaz_0_13d\" - 0.783053\n",
    "* Ze zmienną \"srednia_sprzedaz_0_13d\" wysoce skorelowane są zmienne: srednia_sprzedaz_0_2d, srednia_sprzedaz_0_6d\n",
    "* Zmienne do sprawdzenia:\n",
    "    * \"srednia_cena_ropy_0_6d\" - mocniej skorelowana ze zmienną celu niż srednia_cena_ropy_0_29d\n",
    "    * \"rok_dzialalnosci\" - z każdym rokiem sprzedaż nieco wzrasta.\n",
    "    * Pozostałe zmienne oparte na dacie: święta, weekendy, etc.\n",
    "---\n",
    "\n",
    "Skorzystaj z metody `tr.drop(columns=[], inplace=True)`\n",
    "\n",
    "PS. Pamiętaj, by identyczą operację przeprowadzić dla obu zbiorów."
   ]
  },
  {
   "cell_type": "code",
   "execution_count": 3,
   "id": "cb2a94c7",
   "metadata": {},
   "outputs": [],
   "source": [
    "to_drop = ['srednia_sprzedaz_0_2d', 'data_sprzedazy', 'data_odciecia', 'cena_ropy', 'dzien_tygodnia']"
   ]
  },
  {
   "cell_type": "code",
   "execution_count": 4,
   "id": "e45c04f8",
   "metadata": {},
   "outputs": [],
   "source": [
    "tr.drop(columns=to_drop, inplace=True)\n",
    "va.drop(columns=to_drop, inplace=True)"
   ]
  },
  {
   "cell_type": "markdown",
   "id": "b04eb03b",
   "metadata": {},
   "source": [
    "#### 1.2. Zbiór będzie zawierać wiele zmiennych. Rozdzielmy więc X i y na dwa zbiory.\n",
    "Utwórz zmienne `X_tr`, `X_va`, `y_tr` i `y_va`."
   ]
  },
  {
   "cell_type": "code",
   "execution_count": 5,
   "id": "b803ffdd",
   "metadata": {},
   "outputs": [],
   "source": [
    "X_tr = tr.drop(columns='sprzedaz').copy()\n",
    "X_va = va.drop(columns='sprzedaz').copy()\n",
    "\n",
    "y_tr = tr.sprzedaz.copy()\n",
    "y_va = va.sprzedaz.copy()"
   ]
  },
  {
   "cell_type": "code",
   "execution_count": 6,
   "id": "965b9da1",
   "metadata": {},
   "outputs": [
    {
     "data": {
      "text/html": [
       "<div>\n",
       "<style scoped>\n",
       "    .dataframe tbody tr th:only-of-type {\n",
       "        vertical-align: middle;\n",
       "    }\n",
       "\n",
       "    .dataframe tbody tr th {\n",
       "        vertical-align: top;\n",
       "    }\n",
       "\n",
       "    .dataframe thead th {\n",
       "        text-align: right;\n",
       "    }\n",
       "</style>\n",
       "<table border=\"1\" class=\"dataframe\">\n",
       "  <thead>\n",
       "    <tr style=\"text-align: right;\">\n",
       "      <th></th>\n",
       "      <th>id_drogerii</th>\n",
       "      <th>miasto</th>\n",
       "      <th>wojewodztwo</th>\n",
       "      <th>typ_drogerii</th>\n",
       "      <th>srednia_sprzedaz_0_6d</th>\n",
       "      <th>srednia_sprzedaz_0_13d</th>\n",
       "      <th>srednia_cena_ropy_0_6d</th>\n",
       "      <th>srednia_cena_ropy_0_29d</th>\n",
       "      <th>weekend</th>\n",
       "      <th>swieto</th>\n",
       "      <th>miesiac</th>\n",
       "      <th>rok_dzialalnosci</th>\n",
       "      <th>sprzedaz_minus_1t</th>\n",
       "    </tr>\n",
       "  </thead>\n",
       "  <tbody>\n",
       "    <tr>\n",
       "      <th>36</th>\n",
       "      <td>1</td>\n",
       "      <td>Warszawa</td>\n",
       "      <td>Mazowieckie</td>\n",
       "      <td>D</td>\n",
       "      <td>2.428571</td>\n",
       "      <td>2.214286</td>\n",
       "      <td>96.050000</td>\n",
       "      <td>94.531667</td>\n",
       "      <td>False</td>\n",
       "      <td>False</td>\n",
       "      <td>Luty</td>\n",
       "      <td>1</td>\n",
       "      <td>97.98</td>\n",
       "    </tr>\n",
       "    <tr>\n",
       "      <th>37</th>\n",
       "      <td>1</td>\n",
       "      <td>Warszawa</td>\n",
       "      <td>Mazowieckie</td>\n",
       "      <td>D</td>\n",
       "      <td>2.428571</td>\n",
       "      <td>2.142857</td>\n",
       "      <td>96.378571</td>\n",
       "      <td>94.682000</td>\n",
       "      <td>False</td>\n",
       "      <td>False</td>\n",
       "      <td>Luty</td>\n",
       "      <td>1</td>\n",
       "      <td>97.65</td>\n",
       "    </tr>\n",
       "    <tr>\n",
       "      <th>38</th>\n",
       "      <td>1</td>\n",
       "      <td>Warszawa</td>\n",
       "      <td>Mazowieckie</td>\n",
       "      <td>D</td>\n",
       "      <td>2.142857</td>\n",
       "      <td>2.357143</td>\n",
       "      <td>96.708571</td>\n",
       "      <td>94.826000</td>\n",
       "      <td>False</td>\n",
       "      <td>False</td>\n",
       "      <td>Luty</td>\n",
       "      <td>1</td>\n",
       "      <td>97.46</td>\n",
       "    </tr>\n",
       "    <tr>\n",
       "      <th>39</th>\n",
       "      <td>1</td>\n",
       "      <td>Warszawa</td>\n",
       "      <td>Mazowieckie</td>\n",
       "      <td>D</td>\n",
       "      <td>1.571429</td>\n",
       "      <td>2.000000</td>\n",
       "      <td>97.038571</td>\n",
       "      <td>94.975667</td>\n",
       "      <td>True</td>\n",
       "      <td>False</td>\n",
       "      <td>Luty</td>\n",
       "      <td>1</td>\n",
       "      <td>97.46</td>\n",
       "    </tr>\n",
       "    <tr>\n",
       "      <th>40</th>\n",
       "      <td>1</td>\n",
       "      <td>Warszawa</td>\n",
       "      <td>Mazowieckie</td>\n",
       "      <td>D</td>\n",
       "      <td>1.285714</td>\n",
       "      <td>1.785714</td>\n",
       "      <td>97.368571</td>\n",
       "      <td>95.120333</td>\n",
       "      <td>True</td>\n",
       "      <td>False</td>\n",
       "      <td>Luty</td>\n",
       "      <td>1</td>\n",
       "      <td>97.46</td>\n",
       "    </tr>\n",
       "  </tbody>\n",
       "</table>\n",
       "</div>"
      ],
      "text/plain": [
       "    id_drogerii    miasto  wojewodztwo typ_drogerii  srednia_sprzedaz_0_6d  \\\n",
       "36            1  Warszawa  Mazowieckie            D               2.428571   \n",
       "37            1  Warszawa  Mazowieckie            D               2.428571   \n",
       "38            1  Warszawa  Mazowieckie            D               2.142857   \n",
       "39            1  Warszawa  Mazowieckie            D               1.571429   \n",
       "40            1  Warszawa  Mazowieckie            D               1.285714   \n",
       "\n",
       "    srednia_sprzedaz_0_13d  srednia_cena_ropy_0_6d  srednia_cena_ropy_0_29d  \\\n",
       "36                2.214286               96.050000                94.531667   \n",
       "37                2.142857               96.378571                94.682000   \n",
       "38                2.357143               96.708571                94.826000   \n",
       "39                2.000000               97.038571                94.975667   \n",
       "40                1.785714               97.368571                95.120333   \n",
       "\n",
       "    weekend  swieto miesiac  rok_dzialalnosci  sprzedaz_minus_1t  \n",
       "36    False   False    Luty                 1              97.98  \n",
       "37    False   False    Luty                 1              97.65  \n",
       "38    False   False    Luty                 1              97.46  \n",
       "39     True   False    Luty                 1              97.46  \n",
       "40     True   False    Luty                 1              97.46  "
      ]
     },
     "execution_count": 6,
     "metadata": {},
     "output_type": "execute_result"
    }
   ],
   "source": [
    "X_tr.head()"
   ]
  },
  {
   "cell_type": "markdown",
   "id": "af2ab40e",
   "metadata": {},
   "source": [
    "#### 1.3.Wykonaj konwersję zmiennych kategorycznych do typu binarnego.\n",
    "* Skorzystaj z funkcji `pd.get_dummies(X_tr, columns=[tu_wpisz_zmienne_do_przekonwertowania])`.\n",
    "* Wykonaj konwersję dla zmiennych: `['typ_drogerii', 'weekend', 'swieto', 'miasto', 'wojewodztwo', 'id_drogerii', 'miesiac']`.\n",
    "* Wykonaj konwersję zarówno dla zbioru X_tr, jak i X_va."
   ]
  },
  {
   "cell_type": "code",
   "execution_count": 7,
   "id": "325fcb81",
   "metadata": {},
   "outputs": [],
   "source": [
    "X_tr = pd.get_dummies(X_tr, columns=['typ_drogerii', 'weekend', 'swieto', 'miasto', 'wojewodztwo', 'id_drogerii', 'miesiac'], drop_first=True)\n",
    "X_va = pd.get_dummies(X_va, columns=['typ_drogerii', 'weekend', 'swieto', 'miasto', 'wojewodztwo', 'id_drogerii', 'miesiac'], drop_first=True)"
   ]
  },
  {
   "cell_type": "markdown",
   "id": "f3cd510e",
   "metadata": {},
   "source": [
    "## Ćwiczenie 2."
   ]
  },
  {
   "cell_type": "markdown",
   "id": "bf8377b2",
   "metadata": {},
   "source": [
    "#### 2.1. Zbuduj prostu \"niedouczony\" model drzewa decyzyjnego. Będzie on naszym punktem odniesienia dla kolejnych modeli.\n",
    "* Ustaw parametry `max_dept=3` i `min_samples_leaf=0.1`."
   ]
  },
  {
   "cell_type": "code",
   "execution_count": 11,
   "id": "3f4a1bb4",
   "metadata": {},
   "outputs": [
    {
     "data": {
      "text/html": [
       "<style>#sk-container-id-1 {color: black;background-color: white;}#sk-container-id-1 pre{padding: 0;}#sk-container-id-1 div.sk-toggleable {background-color: white;}#sk-container-id-1 label.sk-toggleable__label {cursor: pointer;display: block;width: 100%;margin-bottom: 0;padding: 0.3em;box-sizing: border-box;text-align: center;}#sk-container-id-1 label.sk-toggleable__label-arrow:before {content: \"▸\";float: left;margin-right: 0.25em;color: #696969;}#sk-container-id-1 label.sk-toggleable__label-arrow:hover:before {color: black;}#sk-container-id-1 div.sk-estimator:hover label.sk-toggleable__label-arrow:before {color: black;}#sk-container-id-1 div.sk-toggleable__content {max-height: 0;max-width: 0;overflow: hidden;text-align: left;background-color: #f0f8ff;}#sk-container-id-1 div.sk-toggleable__content pre {margin: 0.2em;color: black;border-radius: 0.25em;background-color: #f0f8ff;}#sk-container-id-1 input.sk-toggleable__control:checked~div.sk-toggleable__content {max-height: 200px;max-width: 100%;overflow: auto;}#sk-container-id-1 input.sk-toggleable__control:checked~label.sk-toggleable__label-arrow:before {content: \"▾\";}#sk-container-id-1 div.sk-estimator input.sk-toggleable__control:checked~label.sk-toggleable__label {background-color: #d4ebff;}#sk-container-id-1 div.sk-label input.sk-toggleable__control:checked~label.sk-toggleable__label {background-color: #d4ebff;}#sk-container-id-1 input.sk-hidden--visually {border: 0;clip: rect(1px 1px 1px 1px);clip: rect(1px, 1px, 1px, 1px);height: 1px;margin: -1px;overflow: hidden;padding: 0;position: absolute;width: 1px;}#sk-container-id-1 div.sk-estimator {font-family: monospace;background-color: #f0f8ff;border: 1px dotted black;border-radius: 0.25em;box-sizing: border-box;margin-bottom: 0.5em;}#sk-container-id-1 div.sk-estimator:hover {background-color: #d4ebff;}#sk-container-id-1 div.sk-parallel-item::after {content: \"\";width: 100%;border-bottom: 1px solid gray;flex-grow: 1;}#sk-container-id-1 div.sk-label:hover label.sk-toggleable__label {background-color: #d4ebff;}#sk-container-id-1 div.sk-serial::before {content: \"\";position: absolute;border-left: 1px solid gray;box-sizing: border-box;top: 0;bottom: 0;left: 50%;z-index: 0;}#sk-container-id-1 div.sk-serial {display: flex;flex-direction: column;align-items: center;background-color: white;padding-right: 0.2em;padding-left: 0.2em;position: relative;}#sk-container-id-1 div.sk-item {position: relative;z-index: 1;}#sk-container-id-1 div.sk-parallel {display: flex;align-items: stretch;justify-content: center;background-color: white;position: relative;}#sk-container-id-1 div.sk-item::before, #sk-container-id-1 div.sk-parallel-item::before {content: \"\";position: absolute;border-left: 1px solid gray;box-sizing: border-box;top: 0;bottom: 0;left: 50%;z-index: -1;}#sk-container-id-1 div.sk-parallel-item {display: flex;flex-direction: column;z-index: 1;position: relative;background-color: white;}#sk-container-id-1 div.sk-parallel-item:first-child::after {align-self: flex-end;width: 50%;}#sk-container-id-1 div.sk-parallel-item:last-child::after {align-self: flex-start;width: 50%;}#sk-container-id-1 div.sk-parallel-item:only-child::after {width: 0;}#sk-container-id-1 div.sk-dashed-wrapped {border: 1px dashed gray;margin: 0 0.4em 0.5em 0.4em;box-sizing: border-box;padding-bottom: 0.4em;background-color: white;}#sk-container-id-1 div.sk-label label {font-family: monospace;font-weight: bold;display: inline-block;line-height: 1.2em;}#sk-container-id-1 div.sk-label-container {text-align: center;}#sk-container-id-1 div.sk-container {/* jupyter's `normalize.less` sets `[hidden] { display: none; }` but bootstrap.min.css set `[hidden] { display: none !important; }` so we also need the `!important` here to be able to override the default hidden behavior on the sphinx rendered scikit-learn.org. See: https://github.com/scikit-learn/scikit-learn/issues/21755 */display: inline-block !important;position: relative;}#sk-container-id-1 div.sk-text-repr-fallback {display: none;}</style><div id=\"sk-container-id-1\" class=\"sk-top-container\"><div class=\"sk-text-repr-fallback\"><pre>DecisionTreeRegressor(max_depth=3, min_samples_leaf=0.1)</pre><b>In a Jupyter environment, please rerun this cell to show the HTML representation or trust the notebook. <br />On GitHub, the HTML representation is unable to render, please try loading this page with nbviewer.org.</b></div><div class=\"sk-container\" hidden><div class=\"sk-item\"><div class=\"sk-estimator sk-toggleable\"><input class=\"sk-toggleable__control sk-hidden--visually\" id=\"sk-estimator-id-1\" type=\"checkbox\" checked><label for=\"sk-estimator-id-1\" class=\"sk-toggleable__label sk-toggleable__label-arrow\">DecisionTreeRegressor</label><div class=\"sk-toggleable__content\"><pre>DecisionTreeRegressor(max_depth=3, min_samples_leaf=0.1)</pre></div></div></div></div></div>"
      ],
      "text/plain": [
       "DecisionTreeRegressor(max_depth=3, min_samples_leaf=0.1)"
      ]
     },
     "execution_count": 11,
     "metadata": {},
     "output_type": "execute_result"
    }
   ],
   "source": [
    "model_dd = DecisionTreeRegressor(max_depth=3, min_samples_leaf=0.1)\n",
    "model_dd.fit(X_tr, y_tr)"
   ]
  },
  {
   "cell_type": "markdown",
   "id": "1c044a53",
   "metadata": {},
   "source": [
    "#### 2.2. Sprawdź jakość modelu na zbiorze `X_va`."
   ]
  },
  {
   "cell_type": "code",
   "execution_count": 17,
   "id": "8d62066f",
   "metadata": {},
   "outputs": [
    {
     "name": "stdout",
     "output_type": "stream",
     "text": [
      "Drzewo decyzyjne TR:  2.63\n",
      "Drzewo decyzyjne TE:  2.73\n"
     ]
    }
   ],
   "source": [
    "pred_tr_dd = model_dd.predict(X_tr)\n",
    "pred_va_dd = model_dd.predict(X_va)\n",
    "\n",
    "score_tr_dd = mean_squared_error(y_tr, pred_tr_dd, squared=False)\n",
    "score_va_dd = mean_squared_error(y_va, pred_va_dd, squared=False)\n",
    "\n",
    "print('Drzewo decyzyjne TR: ', np.round(score_tr_dd, 2))\n",
    "print('Drzewo decyzyjne TE: ', np.round(score_va_dd, 2))"
   ]
  },
  {
   "cell_type": "markdown",
   "id": "f3da585d",
   "metadata": {},
   "source": [
    "Najlepsze wyniki, jakie udało się osiągnąć z użyciem regresji liniowej:\n",
    "* MSE TR: 2.294\n",
    "* MSE VA: 2.298\n",
    "\n",
    "Jest więc miejsce na poprawę."
   ]
  },
  {
   "cell_type": "markdown",
   "id": "0a51b906",
   "metadata": {},
   "source": [
    "## Ćwiczenie 3.\n",
    "#### 3.1. Wykonaj próbkowanie z użyciem metody `df.sample`.\n",
    "* Zbiór jest dosyć długi (prawie 50 tys. obserwacji) i dosić szeroki (kilkadziesiąt zmiennych). Na potrzeby poszukiwania optymalnych parametrów przeprowadzimy próbkowanie."
   ]
  },
  {
   "cell_type": "code",
   "execution_count": 18,
   "id": "c345403e",
   "metadata": {},
   "outputs": [],
   "source": [
    "X_tr_sampled = X_tr.sample(5000, random_state=2001)\n",
    "y_tr_sampled = y_tr.loc[X_tr_sampled.index]"
   ]
  },
  {
   "cell_type": "markdown",
   "id": "b47dd124",
   "metadata": {},
   "source": [
    "#### 3.2. Zdefiniuj siatką parametrów i ustal odpowiednią CV."
   ]
  },
  {
   "cell_type": "code",
   "execution_count": 26,
   "id": "9a23f987",
   "metadata": {},
   "outputs": [],
   "source": [
    "parametry = {\n",
    "    'criterion': [\"mse\", \"friedman_mse\"],\n",
    "    'max_depth': [2, 3, 4, 5],\n",
    "    'min_samples_split': [0.01, 0.02, 0.05],\n",
    "    'min_samples_leaf': [10, 15, 20, 30],\n",
    "    'random_state': [2001]\n",
    "}\n",
    "model_cv = DecisionTreeRegressor()"
   ]
  },
  {
   "cell_type": "markdown",
   "id": "35aada0e",
   "metadata": {},
   "source": [
    "#### 3.3. Naucz nowy model i przeprowadź weryfikację jego jakości."
   ]
  },
  {
   "cell_type": "code",
   "execution_count": 34,
   "id": "ae51bea6",
   "metadata": {},
   "outputs": [
    {
     "name": "stderr",
     "output_type": "stream",
     "text": [
      "/opt/jupyterhub/lib/python3.8/site-packages/sklearn/tree/_classes.py:397: FutureWarning: Criterion 'mse' was deprecated in v1.0 and will be removed in version 1.2. Use `criterion='squared_error'` which is equivalent.\n",
      "  warnings.warn(\n",
      "/opt/jupyterhub/lib/python3.8/site-packages/sklearn/tree/_classes.py:397: FutureWarning: Criterion 'mse' was deprecated in v1.0 and will be removed in version 1.2. Use `criterion='squared_error'` which is equivalent.\n",
      "  warnings.warn(\n"
     ]
    },
    {
     "name": "stdout",
     "output_type": "stream",
     "text": [
      "TR:  2.31\n",
      "TE:  2.33\n"
     ]
    }
   ],
   "source": [
    "gs = GridSearchCV(model_cv, parametry, n_jobs=2, scoring='neg_mean_squared_error', cv=3)\n",
    "gs.fit(X_tr, y_tr)\n",
    "\n",
    "model_cv = DecisionTreeRegressor(**gs.best_params_)\n",
    "model_cv.fit(X_tr, y_tr)\n",
    "\n",
    "pred_tr = model_cv.predict(X_tr)\n",
    "pred_va = model_cv.predict(X_va)\n",
    "\n",
    "score_tr = mean_squared_error(y_tr, pred_tr, squared=False)\n",
    "score_va = mean_squared_error(y_va, pred_va, squared=False)\n",
    "\n",
    "print('TR: ', np.round(score_tr, 2))\n",
    "print('TE: ', np.round(score_va, 2))"
   ]
  },
  {
   "cell_type": "markdown",
   "id": "be7a6df8",
   "metadata": {},
   "source": [
    "#### 3.4. Sprawdź jakie zmienne okazaly się istotne."
   ]
  },
  {
   "cell_type": "code",
   "execution_count": 35,
   "id": "950f1154",
   "metadata": {},
   "outputs": [
    {
     "data": {
      "text/plain": [
       "srednia_sprzedaz_0_13d    0.871868\n",
       "swieto_True               0.070732\n",
       "srednia_sprzedaz_0_6d     0.031588\n",
       "id_drogerii_44            0.015260\n",
       "weekend_True              0.010529\n",
       "miasto_Lublin             0.000023\n",
       "id_drogerii_28            0.000000\n",
       "id_drogerii_29            0.000000\n",
       "id_drogerii_30            0.000000\n",
       "id_drogerii_32            0.000000\n",
       "dtype: float64"
      ]
     },
     "execution_count": 35,
     "metadata": {},
     "output_type": "execute_result"
    }
   ],
   "source": [
    "pd.Series(model_cv.feature_importances_, index=X_tr.columns).sort_values(ascending=False)[0:10]"
   ]
  },
  {
   "cell_type": "markdown",
   "id": "83140d51",
   "metadata": {},
   "source": [
    "## Ćwiczenie 4.\n",
    "#### 4.1. Wczytaj zbiór \"wages_categorical.csv\", który znajduje się w katalogu \"dane\". Zawiera on mnóstwo zmiennych kategorycznych - idealnie dla drzewa decyzyjnego! :-)"
   ]
  },
  {
   "cell_type": "code",
   "execution_count": null,
   "id": "7fe514e7",
   "metadata": {},
   "outputs": [],
   "source": [
    "dane \n"
   ]
  },
  {
   "cell_type": "markdown",
   "id": "bc1099fb",
   "metadata": {},
   "source": [
    "#### 4.2. Przeprowadź konwersję zmiennych kategorycznych do kodowania *dummy coding*."
   ]
  },
  {
   "cell_type": "code",
   "execution_count": null,
   "id": "4c7f6ee2",
   "metadata": {},
   "outputs": [],
   "source": [
    "X_tr = pd.get_dummies(X_tr, columns=['typ_drogerii', 'weekend', 'swieto', 'miasto', 'wojewodztwo', 'id_drogerii', 'miesiac'], drop_first=True)\n",
    "X_va = pd.get_dummies(X_va, columns=['typ_drogerii', 'weekend', 'swieto', 'miasto', 'wojewodztwo', 'id_drogerii', 'miesiac'], drop_first=True)\n"
   ]
  },
  {
   "cell_type": "markdown",
   "id": "3d52c4f7",
   "metadata": {},
   "source": [
    "#### 4.3. Podziel zbiór na 2 części w proporcjach 2:1. Rozdziel X od y."
   ]
  },
  {
   "cell_type": "code",
   "execution_count": null,
   "id": "bdf81f72",
   "metadata": {},
   "outputs": [],
   "source": [
    "# tu wpisz kod\n"
   ]
  },
  {
   "cell_type": "markdown",
   "id": "816e6a1a",
   "metadata": {},
   "source": [
    "#### 4.4. Zamodeluj zmienną \"wage\". Zacznij od bazowego modelu z parametrami `max_depth=3, min_samples_leaf=0.1`."
   ]
  },
  {
   "cell_type": "code",
   "execution_count": null,
   "id": "a72f97f8",
   "metadata": {},
   "outputs": [],
   "source": [
    "# tu wpisz kod\n"
   ]
  },
  {
   "cell_type": "markdown",
   "id": "ed8103fd",
   "metadata": {},
   "source": [
    "#### 4.5. Poszukaj sub-optymalnych parametrów modelu używając `GridSearchCV`."
   ]
  },
  {
   "cell_type": "code",
   "execution_count": null,
   "id": "fdf63c22",
   "metadata": {},
   "outputs": [],
   "source": [
    "# tu wpisz kod\n"
   ]
  },
  {
   "cell_type": "markdown",
   "id": "608d83d7",
   "metadata": {},
   "source": [
    "#### 4.6. Naucz nowy model i przeprowadź weryfikację jego jakości."
   ]
  },
  {
   "cell_type": "code",
   "execution_count": null,
   "id": "c3870d23",
   "metadata": {},
   "outputs": [],
   "source": [
    "# tu wpisz kod\n"
   ]
  },
  {
   "cell_type": "markdown",
   "id": "27c8cbfe",
   "metadata": {},
   "source": [
    "#### 4.7. Sprawdź jakie zmienne okazaly się istotne."
   ]
  },
  {
   "cell_type": "code",
   "execution_count": null,
   "id": "525cfaf8",
   "metadata": {},
   "outputs": [],
   "source": [
    "# tu wpisz kod\n"
   ]
  }
 ],
 "metadata": {
  "kernelspec": {
   "display_name": "Python 3",
   "language": "python",
   "name": "python3"
  },
  "language_info": {
   "codemirror_mode": {
    "name": "ipython",
    "version": 3
   },
   "file_extension": ".py",
   "mimetype": "text/x-python",
   "name": "python",
   "nbconvert_exporter": "python",
   "pygments_lexer": "ipython3",
   "version": "3.8.10"
  }
 },
 "nbformat": 4,
 "nbformat_minor": 5
}
