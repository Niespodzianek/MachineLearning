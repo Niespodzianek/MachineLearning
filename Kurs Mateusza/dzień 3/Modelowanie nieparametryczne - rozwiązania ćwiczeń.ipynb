{
 "cells": [
  {
   "cell_type": "markdown",
   "id": "5b1252bf",
   "metadata": {},
   "source": [
    "## Import bibliotek."
   ]
  },
  {
   "cell_type": "code",
   "execution_count": 1,
   "id": "5726f6b6",
   "metadata": {},
   "outputs": [],
   "source": [
    "import numpy as np\n",
    "import pandas as pd\n",
    "\n",
    "import seaborn as sns\n",
    "import matplotlib.pyplot as plt\n",
    "sns.set_style('whitegrid')\n",
    "\n",
    "from sklearn.linear_model import LinearRegression\n",
    "from sklearn.metrics import mean_squared_error\n",
    "from sklearn.model_selection import train_test_split\n",
    "from sklearn.tree import DecisionTreeRegressor\n",
    "from sklearn.model_selection import GridSearchCV\n",
    "from sklearn import tree"
   ]
  },
  {
   "cell_type": "markdown",
   "id": "bfd32fcf",
   "metadata": {},
   "source": [
    "## Ćwiczenie 1.\n",
    "Wczytajamy zbiory dotyczące danych sprzedażowych \"Produktu A\"."
   ]
  },
  {
   "cell_type": "code",
   "execution_count": 2,
   "id": "b86e54b0",
   "metadata": {},
   "outputs": [],
   "source": [
    "tr = pd.read_parquet('dane/tr.parquet')\n",
    "va = pd.read_parquet('dane/va.parquet')"
   ]
  },
  {
   "cell_type": "markdown",
   "id": "fd8523f8",
   "metadata": {},
   "source": [
    "#### 1.1. Rzuć okiem na zbiór. Odrzuć niepotrzebne kolumny.\n",
    "\n",
    "**Zanim zaczniesz, przeczytaj proszę wnioski z poprzednich zajęć, które podsumowałem poniżej.**\n",
    "\n",
    "---\n",
    "Dla przypomnienia, wnioski z poprzednich zajęć i analizy zbioru uczącego:\n",
    "* Najmocniej skorelowana ze zmienną celu: \"srednia_sprzedaz_0_13d\" - 0.783053\n",
    "* Ze zmienną \"srednia_sprzedaz_0_13d\" wysoce skorelowane są zmienne: srednia_sprzedaz_0_2d, srednia_sprzedaz_0_6d\n",
    "* Zmienne do sprawdzenia:\n",
    "    * \"srednia_cena_ropy_0_6d\" - mocniej skorelowana ze zmienną celu niż srednia_cena_ropy_0_29d\n",
    "    * \"rok_dzialalnosci\" - z każdym rokiem sprzedaż nieco wzrasta.\n",
    "    * Pozostałe zmienne oparte na dacie: święta, weekendy, etc.\n",
    "---\n",
    "\n",
    "Skorzystaj z metody `tr.drop(columns=[], inplace=True)`\n",
    "\n",
    "PS. Pamiętaj, by identyczą operację przeprowadzić dla obu zbiorów."
   ]
  },
  {
   "cell_type": "code",
   "execution_count": 3,
   "id": "b9f4391a",
   "metadata": {},
   "outputs": [],
   "source": [
    "to_drop = ['srednia_sprzedaz_0_2d', 'data_sprzedazy', 'data_odciecia', 'cena_ropy', 'dzien_tygodnia']"
   ]
  },
  {
   "cell_type": "code",
   "execution_count": 4,
   "id": "7c00a485",
   "metadata": {},
   "outputs": [],
   "source": [
    "tr.drop(columns=to_drop, inplace=True)\n",
    "va.drop(columns=to_drop, inplace=True)"
   ]
  },
  {
   "cell_type": "code",
   "execution_count": 5,
   "id": "d84b10b7",
   "metadata": {},
   "outputs": [
    {
     "data": {
      "text/html": [
       "<div>\n",
       "<style scoped>\n",
       "    .dataframe tbody tr th:only-of-type {\n",
       "        vertical-align: middle;\n",
       "    }\n",
       "\n",
       "    .dataframe tbody tr th {\n",
       "        vertical-align: top;\n",
       "    }\n",
       "\n",
       "    .dataframe thead th {\n",
       "        text-align: right;\n",
       "    }\n",
       "</style>\n",
       "<table border=\"1\" class=\"dataframe\">\n",
       "  <thead>\n",
       "    <tr style=\"text-align: right;\">\n",
       "      <th></th>\n",
       "      <th>id_drogerii</th>\n",
       "      <th>sprzedaz</th>\n",
       "      <th>miasto</th>\n",
       "      <th>wojewodztwo</th>\n",
       "      <th>typ_drogerii</th>\n",
       "      <th>srednia_sprzedaz_0_6d</th>\n",
       "      <th>srednia_sprzedaz_0_13d</th>\n",
       "      <th>srednia_cena_ropy_0_6d</th>\n",
       "      <th>srednia_cena_ropy_0_29d</th>\n",
       "      <th>weekend</th>\n",
       "      <th>swieto</th>\n",
       "      <th>miesiac</th>\n",
       "      <th>rok_dzialalnosci</th>\n",
       "      <th>sprzedaz_minus_1t</th>\n",
       "    </tr>\n",
       "  </thead>\n",
       "  <tbody>\n",
       "    <tr>\n",
       "      <th>36</th>\n",
       "      <td>1</td>\n",
       "      <td>1</td>\n",
       "      <td>Warszawa</td>\n",
       "      <td>Mazowieckie</td>\n",
       "      <td>D</td>\n",
       "      <td>2.428571</td>\n",
       "      <td>2.214286</td>\n",
       "      <td>96.050000</td>\n",
       "      <td>94.531667</td>\n",
       "      <td>False</td>\n",
       "      <td>False</td>\n",
       "      <td>Luty</td>\n",
       "      <td>1</td>\n",
       "      <td>97.98</td>\n",
       "    </tr>\n",
       "    <tr>\n",
       "      <th>37</th>\n",
       "      <td>1</td>\n",
       "      <td>1</td>\n",
       "      <td>Warszawa</td>\n",
       "      <td>Mazowieckie</td>\n",
       "      <td>D</td>\n",
       "      <td>2.428571</td>\n",
       "      <td>2.142857</td>\n",
       "      <td>96.378571</td>\n",
       "      <td>94.682000</td>\n",
       "      <td>False</td>\n",
       "      <td>False</td>\n",
       "      <td>Luty</td>\n",
       "      <td>1</td>\n",
       "      <td>97.65</td>\n",
       "    </tr>\n",
       "    <tr>\n",
       "      <th>38</th>\n",
       "      <td>1</td>\n",
       "      <td>2</td>\n",
       "      <td>Warszawa</td>\n",
       "      <td>Mazowieckie</td>\n",
       "      <td>D</td>\n",
       "      <td>2.142857</td>\n",
       "      <td>2.357143</td>\n",
       "      <td>96.708571</td>\n",
       "      <td>94.826000</td>\n",
       "      <td>False</td>\n",
       "      <td>False</td>\n",
       "      <td>Luty</td>\n",
       "      <td>1</td>\n",
       "      <td>97.46</td>\n",
       "    </tr>\n",
       "    <tr>\n",
       "      <th>39</th>\n",
       "      <td>1</td>\n",
       "      <td>4</td>\n",
       "      <td>Warszawa</td>\n",
       "      <td>Mazowieckie</td>\n",
       "      <td>D</td>\n",
       "      <td>1.571429</td>\n",
       "      <td>2.000000</td>\n",
       "      <td>97.038571</td>\n",
       "      <td>94.975667</td>\n",
       "      <td>True</td>\n",
       "      <td>False</td>\n",
       "      <td>Luty</td>\n",
       "      <td>1</td>\n",
       "      <td>97.46</td>\n",
       "    </tr>\n",
       "    <tr>\n",
       "      <th>40</th>\n",
       "      <td>1</td>\n",
       "      <td>1</td>\n",
       "      <td>Warszawa</td>\n",
       "      <td>Mazowieckie</td>\n",
       "      <td>D</td>\n",
       "      <td>1.285714</td>\n",
       "      <td>1.785714</td>\n",
       "      <td>97.368571</td>\n",
       "      <td>95.120333</td>\n",
       "      <td>True</td>\n",
       "      <td>False</td>\n",
       "      <td>Luty</td>\n",
       "      <td>1</td>\n",
       "      <td>97.46</td>\n",
       "    </tr>\n",
       "  </tbody>\n",
       "</table>\n",
       "</div>"
      ],
      "text/plain": [
       "    id_drogerii  sprzedaz    miasto  wojewodztwo typ_drogerii  \\\n",
       "36            1         1  Warszawa  Mazowieckie            D   \n",
       "37            1         1  Warszawa  Mazowieckie            D   \n",
       "38            1         2  Warszawa  Mazowieckie            D   \n",
       "39            1         4  Warszawa  Mazowieckie            D   \n",
       "40            1         1  Warszawa  Mazowieckie            D   \n",
       "\n",
       "    srednia_sprzedaz_0_6d  srednia_sprzedaz_0_13d  srednia_cena_ropy_0_6d  \\\n",
       "36               2.428571                2.214286               96.050000   \n",
       "37               2.428571                2.142857               96.378571   \n",
       "38               2.142857                2.357143               96.708571   \n",
       "39               1.571429                2.000000               97.038571   \n",
       "40               1.285714                1.785714               97.368571   \n",
       "\n",
       "    srednia_cena_ropy_0_29d  weekend  swieto miesiac  rok_dzialalnosci  \\\n",
       "36                94.531667    False   False    Luty                 1   \n",
       "37                94.682000    False   False    Luty                 1   \n",
       "38                94.826000    False   False    Luty                 1   \n",
       "39                94.975667     True   False    Luty                 1   \n",
       "40                95.120333     True   False    Luty                 1   \n",
       "\n",
       "    sprzedaz_minus_1t  \n",
       "36              97.98  \n",
       "37              97.65  \n",
       "38              97.46  \n",
       "39              97.46  \n",
       "40              97.46  "
      ]
     },
     "execution_count": 5,
     "metadata": {},
     "output_type": "execute_result"
    }
   ],
   "source": [
    "tr.head()"
   ]
  },
  {
   "cell_type": "markdown",
   "id": "7aa03cca",
   "metadata": {},
   "source": [
    "#### 1.2. Zbiór będzie zawierać wiele zmiennych. Rozdzielmy więc X i y na dwa zbiory.\n",
    "Utwórz zmienne `X_tr`, `X_va`, `y_tr` i `y_va`."
   ]
  },
  {
   "cell_type": "code",
   "execution_count": 6,
   "id": "3d5ff9bb",
   "metadata": {},
   "outputs": [],
   "source": [
    "X_tr = tr.drop(columns='sprzedaz').copy()\n",
    "X_va = va.drop(columns='sprzedaz').copy()\n",
    "\n",
    "y_tr = tr.sprzedaz.copy()\n",
    "y_va = va.sprzedaz.copy()"
   ]
  },
  {
   "cell_type": "code",
   "execution_count": 7,
   "id": "c9ec9644",
   "metadata": {},
   "outputs": [
    {
     "data": {
      "text/html": [
       "<div>\n",
       "<style scoped>\n",
       "    .dataframe tbody tr th:only-of-type {\n",
       "        vertical-align: middle;\n",
       "    }\n",
       "\n",
       "    .dataframe tbody tr th {\n",
       "        vertical-align: top;\n",
       "    }\n",
       "\n",
       "    .dataframe thead th {\n",
       "        text-align: right;\n",
       "    }\n",
       "</style>\n",
       "<table border=\"1\" class=\"dataframe\">\n",
       "  <thead>\n",
       "    <tr style=\"text-align: right;\">\n",
       "      <th></th>\n",
       "      <th>id_drogerii</th>\n",
       "      <th>miasto</th>\n",
       "      <th>wojewodztwo</th>\n",
       "      <th>typ_drogerii</th>\n",
       "      <th>srednia_sprzedaz_0_6d</th>\n",
       "      <th>srednia_sprzedaz_0_13d</th>\n",
       "      <th>srednia_cena_ropy_0_6d</th>\n",
       "      <th>srednia_cena_ropy_0_29d</th>\n",
       "      <th>weekend</th>\n",
       "      <th>swieto</th>\n",
       "      <th>miesiac</th>\n",
       "      <th>rok_dzialalnosci</th>\n",
       "      <th>sprzedaz_minus_1t</th>\n",
       "    </tr>\n",
       "  </thead>\n",
       "  <tbody>\n",
       "    <tr>\n",
       "      <th>36</th>\n",
       "      <td>1</td>\n",
       "      <td>Warszawa</td>\n",
       "      <td>Mazowieckie</td>\n",
       "      <td>D</td>\n",
       "      <td>2.428571</td>\n",
       "      <td>2.214286</td>\n",
       "      <td>96.050000</td>\n",
       "      <td>94.531667</td>\n",
       "      <td>False</td>\n",
       "      <td>False</td>\n",
       "      <td>Luty</td>\n",
       "      <td>1</td>\n",
       "      <td>97.98</td>\n",
       "    </tr>\n",
       "    <tr>\n",
       "      <th>37</th>\n",
       "      <td>1</td>\n",
       "      <td>Warszawa</td>\n",
       "      <td>Mazowieckie</td>\n",
       "      <td>D</td>\n",
       "      <td>2.428571</td>\n",
       "      <td>2.142857</td>\n",
       "      <td>96.378571</td>\n",
       "      <td>94.682000</td>\n",
       "      <td>False</td>\n",
       "      <td>False</td>\n",
       "      <td>Luty</td>\n",
       "      <td>1</td>\n",
       "      <td>97.65</td>\n",
       "    </tr>\n",
       "    <tr>\n",
       "      <th>38</th>\n",
       "      <td>1</td>\n",
       "      <td>Warszawa</td>\n",
       "      <td>Mazowieckie</td>\n",
       "      <td>D</td>\n",
       "      <td>2.142857</td>\n",
       "      <td>2.357143</td>\n",
       "      <td>96.708571</td>\n",
       "      <td>94.826000</td>\n",
       "      <td>False</td>\n",
       "      <td>False</td>\n",
       "      <td>Luty</td>\n",
       "      <td>1</td>\n",
       "      <td>97.46</td>\n",
       "    </tr>\n",
       "    <tr>\n",
       "      <th>39</th>\n",
       "      <td>1</td>\n",
       "      <td>Warszawa</td>\n",
       "      <td>Mazowieckie</td>\n",
       "      <td>D</td>\n",
       "      <td>1.571429</td>\n",
       "      <td>2.000000</td>\n",
       "      <td>97.038571</td>\n",
       "      <td>94.975667</td>\n",
       "      <td>True</td>\n",
       "      <td>False</td>\n",
       "      <td>Luty</td>\n",
       "      <td>1</td>\n",
       "      <td>97.46</td>\n",
       "    </tr>\n",
       "    <tr>\n",
       "      <th>40</th>\n",
       "      <td>1</td>\n",
       "      <td>Warszawa</td>\n",
       "      <td>Mazowieckie</td>\n",
       "      <td>D</td>\n",
       "      <td>1.285714</td>\n",
       "      <td>1.785714</td>\n",
       "      <td>97.368571</td>\n",
       "      <td>95.120333</td>\n",
       "      <td>True</td>\n",
       "      <td>False</td>\n",
       "      <td>Luty</td>\n",
       "      <td>1</td>\n",
       "      <td>97.46</td>\n",
       "    </tr>\n",
       "  </tbody>\n",
       "</table>\n",
       "</div>"
      ],
      "text/plain": [
       "    id_drogerii    miasto  wojewodztwo typ_drogerii  srednia_sprzedaz_0_6d  \\\n",
       "36            1  Warszawa  Mazowieckie            D               2.428571   \n",
       "37            1  Warszawa  Mazowieckie            D               2.428571   \n",
       "38            1  Warszawa  Mazowieckie            D               2.142857   \n",
       "39            1  Warszawa  Mazowieckie            D               1.571429   \n",
       "40            1  Warszawa  Mazowieckie            D               1.285714   \n",
       "\n",
       "    srednia_sprzedaz_0_13d  srednia_cena_ropy_0_6d  srednia_cena_ropy_0_29d  \\\n",
       "36                2.214286               96.050000                94.531667   \n",
       "37                2.142857               96.378571                94.682000   \n",
       "38                2.357143               96.708571                94.826000   \n",
       "39                2.000000               97.038571                94.975667   \n",
       "40                1.785714               97.368571                95.120333   \n",
       "\n",
       "    weekend  swieto miesiac  rok_dzialalnosci  sprzedaz_minus_1t  \n",
       "36    False   False    Luty                 1              97.98  \n",
       "37    False   False    Luty                 1              97.65  \n",
       "38    False   False    Luty                 1              97.46  \n",
       "39     True   False    Luty                 1              97.46  \n",
       "40     True   False    Luty                 1              97.46  "
      ]
     },
     "execution_count": 7,
     "metadata": {},
     "output_type": "execute_result"
    }
   ],
   "source": [
    "X_tr.head()"
   ]
  },
  {
   "cell_type": "markdown",
   "id": "a9943fe7",
   "metadata": {},
   "source": [
    "#### 1.3.Wykonaj konwersję zmiennych kategorycznych do typu binarnego.\n",
    "* Skorzystaj z funkcji `pd.get_dummies(X_tr, columns=[tu_wpisz_zmienne_do_przekonwertowania])`.\n",
    "* Wykonaj konwersję dla zmiennych: `['id_drogerii', 'miasto', 'wojewodztwo', 'typ_drogerii', 'dzien_tygodnia', 'weekend', 'swieto', 'miesiac']`.\n",
    "* Wykonaj konwersję zarówno dla zbioru X_tr, jak i X_va."
   ]
  },
  {
   "cell_type": "code",
   "execution_count": 8,
   "id": "7400b067",
   "metadata": {},
   "outputs": [],
   "source": [
    "X_tr = pd.get_dummies(X_tr, columns=['typ_drogerii', 'weekend', 'swieto', 'miasto', 'wojewodztwo', 'id_drogerii', 'miesiac'], drop_first=True)\n",
    "X_va = pd.get_dummies(X_va, columns=['typ_drogerii', 'weekend', 'swieto', 'miasto', 'wojewodztwo', 'id_drogerii', 'miesiac'], drop_first=True)"
   ]
  },
  {
   "cell_type": "code",
   "execution_count": 9,
   "id": "302aa189",
   "metadata": {},
   "outputs": [
    {
     "data": {
      "text/html": [
       "<div>\n",
       "<style scoped>\n",
       "    .dataframe tbody tr th:only-of-type {\n",
       "        vertical-align: middle;\n",
       "    }\n",
       "\n",
       "    .dataframe tbody tr th {\n",
       "        vertical-align: top;\n",
       "    }\n",
       "\n",
       "    .dataframe thead th {\n",
       "        text-align: right;\n",
       "    }\n",
       "</style>\n",
       "<table border=\"1\" class=\"dataframe\">\n",
       "  <thead>\n",
       "    <tr style=\"text-align: right;\">\n",
       "      <th></th>\n",
       "      <th>srednia_sprzedaz_0_6d</th>\n",
       "      <th>srednia_sprzedaz_0_13d</th>\n",
       "      <th>srednia_cena_ropy_0_6d</th>\n",
       "      <th>srednia_cena_ropy_0_29d</th>\n",
       "      <th>rok_dzialalnosci</th>\n",
       "      <th>sprzedaz_minus_1t</th>\n",
       "      <th>typ_drogerii_B</th>\n",
       "      <th>typ_drogerii_C</th>\n",
       "      <th>typ_drogerii_D</th>\n",
       "      <th>typ_drogerii_E</th>\n",
       "      <th>...</th>\n",
       "      <th>miesiac_Kwiecień</th>\n",
       "      <th>miesiac_Lipiec</th>\n",
       "      <th>miesiac_Listopad</th>\n",
       "      <th>miesiac_Luty</th>\n",
       "      <th>miesiac_Maj</th>\n",
       "      <th>miesiac_Marzec</th>\n",
       "      <th>miesiac_Październik</th>\n",
       "      <th>miesiac_Sierpień</th>\n",
       "      <th>miesiac_Styczeń</th>\n",
       "      <th>miesiac_Wrzesień</th>\n",
       "    </tr>\n",
       "  </thead>\n",
       "  <tbody>\n",
       "    <tr>\n",
       "      <th>36</th>\n",
       "      <td>2.428571</td>\n",
       "      <td>2.214286</td>\n",
       "      <td>96.050000</td>\n",
       "      <td>94.531667</td>\n",
       "      <td>1</td>\n",
       "      <td>97.98</td>\n",
       "      <td>0</td>\n",
       "      <td>0</td>\n",
       "      <td>1</td>\n",
       "      <td>0</td>\n",
       "      <td>...</td>\n",
       "      <td>0</td>\n",
       "      <td>0</td>\n",
       "      <td>0</td>\n",
       "      <td>1</td>\n",
       "      <td>0</td>\n",
       "      <td>0</td>\n",
       "      <td>0</td>\n",
       "      <td>0</td>\n",
       "      <td>0</td>\n",
       "      <td>0</td>\n",
       "    </tr>\n",
       "    <tr>\n",
       "      <th>37</th>\n",
       "      <td>2.428571</td>\n",
       "      <td>2.142857</td>\n",
       "      <td>96.378571</td>\n",
       "      <td>94.682000</td>\n",
       "      <td>1</td>\n",
       "      <td>97.65</td>\n",
       "      <td>0</td>\n",
       "      <td>0</td>\n",
       "      <td>1</td>\n",
       "      <td>0</td>\n",
       "      <td>...</td>\n",
       "      <td>0</td>\n",
       "      <td>0</td>\n",
       "      <td>0</td>\n",
       "      <td>1</td>\n",
       "      <td>0</td>\n",
       "      <td>0</td>\n",
       "      <td>0</td>\n",
       "      <td>0</td>\n",
       "      <td>0</td>\n",
       "      <td>0</td>\n",
       "    </tr>\n",
       "    <tr>\n",
       "      <th>38</th>\n",
       "      <td>2.142857</td>\n",
       "      <td>2.357143</td>\n",
       "      <td>96.708571</td>\n",
       "      <td>94.826000</td>\n",
       "      <td>1</td>\n",
       "      <td>97.46</td>\n",
       "      <td>0</td>\n",
       "      <td>0</td>\n",
       "      <td>1</td>\n",
       "      <td>0</td>\n",
       "      <td>...</td>\n",
       "      <td>0</td>\n",
       "      <td>0</td>\n",
       "      <td>0</td>\n",
       "      <td>1</td>\n",
       "      <td>0</td>\n",
       "      <td>0</td>\n",
       "      <td>0</td>\n",
       "      <td>0</td>\n",
       "      <td>0</td>\n",
       "      <td>0</td>\n",
       "    </tr>\n",
       "    <tr>\n",
       "      <th>39</th>\n",
       "      <td>1.571429</td>\n",
       "      <td>2.000000</td>\n",
       "      <td>97.038571</td>\n",
       "      <td>94.975667</td>\n",
       "      <td>1</td>\n",
       "      <td>97.46</td>\n",
       "      <td>0</td>\n",
       "      <td>0</td>\n",
       "      <td>1</td>\n",
       "      <td>0</td>\n",
       "      <td>...</td>\n",
       "      <td>0</td>\n",
       "      <td>0</td>\n",
       "      <td>0</td>\n",
       "      <td>1</td>\n",
       "      <td>0</td>\n",
       "      <td>0</td>\n",
       "      <td>0</td>\n",
       "      <td>0</td>\n",
       "      <td>0</td>\n",
       "      <td>0</td>\n",
       "    </tr>\n",
       "    <tr>\n",
       "      <th>40</th>\n",
       "      <td>1.285714</td>\n",
       "      <td>1.785714</td>\n",
       "      <td>97.368571</td>\n",
       "      <td>95.120333</td>\n",
       "      <td>1</td>\n",
       "      <td>97.46</td>\n",
       "      <td>0</td>\n",
       "      <td>0</td>\n",
       "      <td>1</td>\n",
       "      <td>0</td>\n",
       "      <td>...</td>\n",
       "      <td>0</td>\n",
       "      <td>0</td>\n",
       "      <td>0</td>\n",
       "      <td>1</td>\n",
       "      <td>0</td>\n",
       "      <td>0</td>\n",
       "      <td>0</td>\n",
       "      <td>0</td>\n",
       "      <td>0</td>\n",
       "      <td>0</td>\n",
       "    </tr>\n",
       "  </tbody>\n",
       "</table>\n",
       "<p>5 rows × 112 columns</p>\n",
       "</div>"
      ],
      "text/plain": [
       "    srednia_sprzedaz_0_6d  srednia_sprzedaz_0_13d  srednia_cena_ropy_0_6d  \\\n",
       "36               2.428571                2.214286               96.050000   \n",
       "37               2.428571                2.142857               96.378571   \n",
       "38               2.142857                2.357143               96.708571   \n",
       "39               1.571429                2.000000               97.038571   \n",
       "40               1.285714                1.785714               97.368571   \n",
       "\n",
       "    srednia_cena_ropy_0_29d  rok_dzialalnosci  sprzedaz_minus_1t  \\\n",
       "36                94.531667                 1              97.98   \n",
       "37                94.682000                 1              97.65   \n",
       "38                94.826000                 1              97.46   \n",
       "39                94.975667                 1              97.46   \n",
       "40                95.120333                 1              97.46   \n",
       "\n",
       "    typ_drogerii_B  typ_drogerii_C  typ_drogerii_D  typ_drogerii_E  ...  \\\n",
       "36               0               0               1               0  ...   \n",
       "37               0               0               1               0  ...   \n",
       "38               0               0               1               0  ...   \n",
       "39               0               0               1               0  ...   \n",
       "40               0               0               1               0  ...   \n",
       "\n",
       "    miesiac_Kwiecień  miesiac_Lipiec  miesiac_Listopad  miesiac_Luty  \\\n",
       "36                 0               0                 0             1   \n",
       "37                 0               0                 0             1   \n",
       "38                 0               0                 0             1   \n",
       "39                 0               0                 0             1   \n",
       "40                 0               0                 0             1   \n",
       "\n",
       "    miesiac_Maj  miesiac_Marzec  miesiac_Październik  miesiac_Sierpień  \\\n",
       "36            0               0                    0                 0   \n",
       "37            0               0                    0                 0   \n",
       "38            0               0                    0                 0   \n",
       "39            0               0                    0                 0   \n",
       "40            0               0                    0                 0   \n",
       "\n",
       "    miesiac_Styczeń  miesiac_Wrzesień  \n",
       "36                0                 0  \n",
       "37                0                 0  \n",
       "38                0                 0  \n",
       "39                0                 0  \n",
       "40                0                 0  \n",
       "\n",
       "[5 rows x 112 columns]"
      ]
     },
     "execution_count": 9,
     "metadata": {},
     "output_type": "execute_result"
    }
   ],
   "source": [
    "X_tr.head()"
   ]
  },
  {
   "cell_type": "markdown",
   "id": "70c57462",
   "metadata": {},
   "source": [
    "## Ćwiczenie 2."
   ]
  },
  {
   "cell_type": "markdown",
   "id": "5672bd8e",
   "metadata": {},
   "source": [
    "#### 2.1. Zbuduj prostu \"niedouczony\" model drzewa decyzyjnego. Będzie on naszym punktem odniesienia dla kolejnych modeli.\n",
    "* Ustaw parametry `max_dept=3` i `min_samples_leaf=0.1`."
   ]
  },
  {
   "cell_type": "code",
   "execution_count": 10,
   "id": "73ad93a9",
   "metadata": {},
   "outputs": [
    {
     "data": {
      "text/plain": [
       "DecisionTreeRegressor(max_depth=3, min_samples_leaf=0.1)"
      ]
     },
     "execution_count": 10,
     "metadata": {},
     "output_type": "execute_result"
    }
   ],
   "source": [
    "model_1 = DecisionTreeRegressor(max_depth=3, min_samples_leaf=0.1)\n",
    "model_1.fit(X_tr, y_tr)"
   ]
  },
  {
   "cell_type": "markdown",
   "id": "f3e36774",
   "metadata": {},
   "source": [
    "#### 2.2. Sprawdź jakość modelu na zbiorze `X_va`."
   ]
  },
  {
   "cell_type": "code",
   "execution_count": 11,
   "id": "430f74ae",
   "metadata": {},
   "outputs": [
    {
     "name": "stdout",
     "output_type": "stream",
     "text": [
      "TR:  2.63\n",
      "TE:  2.73\n"
     ]
    }
   ],
   "source": [
    "pred_tr = model_1.predict(X_tr)\n",
    "pred_va = model_1.predict(X_va)\n",
    "\n",
    "score_tr = mean_squared_error(y_tr, pred_tr, squared=False)\n",
    "score_va = mean_squared_error(y_va, pred_va, squared=False)\n",
    "\n",
    "print('TR: ', np.round(score_tr, 2))\n",
    "print('TE: ', np.round(score_va, 2))"
   ]
  },
  {
   "cell_type": "markdown",
   "id": "06037461",
   "metadata": {},
   "source": [
    "Najlepsze wyniki, jakie udało się osiągnąć z użyciem regresji liniowej:\n",
    "* MSE TR: 2.294\n",
    "* MSE VA: 2.298\n",
    "\n",
    "Jest więc miejsce na poprawę."
   ]
  },
  {
   "cell_type": "markdown",
   "id": "bc4b68ae",
   "metadata": {},
   "source": [
    "## Ćwiczenie 3.\n",
    "#### 3.1. Wykonaj próbkowanie z użyciem metody `df.sample`.\n",
    "* Zbiór jest dosyć długi (prawie 50 tys. obserwacji) i dosić szeroki (kilkadziesiąt zmiennych). Na potrzeby poszukiwania optymalnych parametrów przeprowadzimy próbkowanie."
   ]
  },
  {
   "cell_type": "code",
   "execution_count": 12,
   "id": "03517c0e",
   "metadata": {},
   "outputs": [],
   "source": [
    "X_tr_sampled = X_tr.sample(5000, random_state=2001)\n",
    "y_tr_sampled = y_tr.loc[X_tr_sampled.index]"
   ]
  },
  {
   "cell_type": "markdown",
   "id": "3dae1f01",
   "metadata": {},
   "source": [
    "#### 3.2. Zdefiniuj siatką parametrów i ustal odpowiednią CV."
   ]
  },
  {
   "cell_type": "code",
   "execution_count": 13,
   "id": "dee83f12",
   "metadata": {},
   "outputs": [],
   "source": [
    "parametry = {\n",
    "    'criterion': [\"mse\"],\n",
    "    'max_depth': [4, 5, 6, 7, 8],\n",
    "    'min_samples_split': [0.01, 0.05, 0.1],\n",
    "    'min_samples_leaf': [30, 40, 50],\n",
    "    'random_state': [2001]\n",
    "}"
   ]
  },
  {
   "cell_type": "code",
   "execution_count": 14,
   "id": "b385d7a4",
   "metadata": {},
   "outputs": [],
   "source": [
    "model_2 = DecisionTreeRegressor()"
   ]
  },
  {
   "cell_type": "code",
   "execution_count": 15,
   "id": "655859df",
   "metadata": {},
   "outputs": [
    {
     "data": {
      "text/plain": [
       "GridSearchCV(cv=4, estimator=DecisionTreeRegressor(), n_jobs=2,\n",
       "             param_grid={'criterion': ['mse'], 'max_depth': [4, 5, 6, 7, 8],\n",
       "                         'min_samples_leaf': [30, 40, 50],\n",
       "                         'min_samples_split': [0.01, 0.05, 0.1],\n",
       "                         'random_state': [2001]},\n",
       "             scoring='neg_mean_squared_error')"
      ]
     },
     "execution_count": 15,
     "metadata": {},
     "output_type": "execute_result"
    }
   ],
   "source": [
    "gs = GridSearchCV(model_2, parametry, n_jobs=2, scoring='neg_mean_squared_error', cv=4)\n",
    "gs.fit(X_tr_sampled, y_tr_sampled)"
   ]
  },
  {
   "cell_type": "markdown",
   "id": "8b45fcc2",
   "metadata": {},
   "source": [
    "#### 3.3. Naucz nowy model i przeprowadź weryfikację jego jakości."
   ]
  },
  {
   "cell_type": "code",
   "execution_count": 16,
   "id": "72df2629",
   "metadata": {},
   "outputs": [
    {
     "data": {
      "text/plain": [
       "DecisionTreeRegressor(max_depth=6, min_samples_leaf=40, min_samples_split=0.05,\n",
       "                      random_state=2001)"
      ]
     },
     "execution_count": 16,
     "metadata": {},
     "output_type": "execute_result"
    }
   ],
   "source": [
    "model_2 = DecisionTreeRegressor(**gs.best_params_)\n",
    "model_2.fit(X_tr, y_tr)"
   ]
  },
  {
   "cell_type": "code",
   "execution_count": 17,
   "id": "73d5f641",
   "metadata": {},
   "outputs": [
    {
     "name": "stdout",
     "output_type": "stream",
     "text": [
      "TR:  2.28\n",
      "TE:  2.32\n"
     ]
    }
   ],
   "source": [
    "pred_tr = model_2.predict(X_tr)\n",
    "pred_va = model_2.predict(X_va)\n",
    "\n",
    "score_tr = mean_squared_error(y_tr, pred_tr, squared=False)\n",
    "score_va = mean_squared_error(y_va, pred_va, squared=False)\n",
    "\n",
    "print('TR: ', np.round(score_tr, 2))\n",
    "print('TE: ', np.round(score_va, 2))"
   ]
  },
  {
   "cell_type": "markdown",
   "id": "464afcff",
   "metadata": {},
   "source": [
    "#### 3.4. Sprawdź jakie zmienne okazaly się istotne."
   ]
  },
  {
   "cell_type": "code",
   "execution_count": 18,
   "id": "e7bd4399",
   "metadata": {},
   "outputs": [
    {
     "data": {
      "text/plain": [
       "srednia_sprzedaz_0_13d    0.868136\n",
       "swieto_True               0.070074\n",
       "srednia_sprzedaz_0_6d     0.031293\n",
       "id_drogerii_44            0.015118\n",
       "weekend_True              0.014524\n",
       "id_drogerii_32            0.000818\n",
       "id_drogerii_12            0.000020\n",
       "sprzedaz_minus_1t         0.000010\n",
       "miasto_Grudziądz          0.000007\n",
       "miesiac_Maj               0.000000\n",
       "dtype: float64"
      ]
     },
     "execution_count": 18,
     "metadata": {},
     "output_type": "execute_result"
    }
   ],
   "source": [
    "pd.Series(model_2.feature_importances_, index=X_tr.columns).sort_values(ascending=False)[0:10]"
   ]
  },
  {
   "cell_type": "markdown",
   "id": "84d59a67",
   "metadata": {},
   "source": [
    "## Ćwiczenie 4.\n",
    "#### 4.1. Wczytaj zbiór \"wages_categorical.csv\", który znajduje się w katalogu \"dane\". Zawiera on mnóstwo zmiennych kategorycznych - idealnie dla drzewa decyzyjnego! :-)"
   ]
  },
  {
   "cell_type": "code",
   "execution_count": 20,
   "id": "ed8c0bae",
   "metadata": {},
   "outputs": [],
   "source": [
    "wages_cat = pd.read_csv('dane/wages_categorical.csv')"
   ]
  },
  {
   "cell_type": "markdown",
   "id": "2670c426",
   "metadata": {},
   "source": [
    "#### 4.2. Przeprowadź konwersję zmiennych kategorycznych do kodowania *dummy coding*."
   ]
  },
  {
   "cell_type": "code",
   "execution_count": 21,
   "id": "b354140e",
   "metadata": {},
   "outputs": [],
   "source": [
    "wages_cat = pd.get_dummies(wages_cat)"
   ]
  },
  {
   "cell_type": "markdown",
   "id": "ff00d62e",
   "metadata": {},
   "source": [
    "#### 4.3. Podziel zbiór na 2 części w proporcjach 2:1. Rozdziel X od y."
   ]
  },
  {
   "cell_type": "code",
   "execution_count": 22,
   "id": "edef1152",
   "metadata": {},
   "outputs": [],
   "source": [
    "wages_tr, wages_va = train_test_split(wages_cat, random_state=2001)"
   ]
  },
  {
   "cell_type": "code",
   "execution_count": 23,
   "id": "0505edd3",
   "metadata": {},
   "outputs": [],
   "source": [
    "X_tr = wages_tr.drop(columns=['wage']).copy()\n",
    "X_va = wages_va.drop(columns=['wage']).copy()\n",
    "\n",
    "y_tr = wages_tr.wage.copy()\n",
    "y_va = wages_va.wage.copy()"
   ]
  },
  {
   "cell_type": "markdown",
   "id": "5012ea6c",
   "metadata": {},
   "source": [
    "#### 4.4. Zamodeluj zmienną \"wage\". Zacznij od bazowego modelu z parametrami `max_depth=3, min_samples_leaf=0.1`."
   ]
  },
  {
   "cell_type": "code",
   "execution_count": 24,
   "id": "bc7314ed",
   "metadata": {},
   "outputs": [
    {
     "data": {
      "text/plain": [
       "DecisionTreeRegressor(max_depth=3, min_samples_leaf=0.1)"
      ]
     },
     "execution_count": 24,
     "metadata": {},
     "output_type": "execute_result"
    }
   ],
   "source": [
    "model_3 = DecisionTreeRegressor(max_depth=3, min_samples_leaf=0.1)\n",
    "model_3.fit(X_tr, y_tr)"
   ]
  },
  {
   "cell_type": "code",
   "execution_count": 25,
   "id": "1e2037fd",
   "metadata": {},
   "outputs": [
    {
     "name": "stdout",
     "output_type": "stream",
     "text": [
      "TR:  35.08\n",
      "TE:  37.3\n"
     ]
    }
   ],
   "source": [
    "pred_tr = model_3.predict(X_tr)\n",
    "pred_va = model_3.predict(X_va)\n",
    "\n",
    "score_tr = mean_squared_error(y_tr, pred_tr, squared=False)\n",
    "score_va = mean_squared_error(y_va, pred_va, squared=False)\n",
    "\n",
    "print('TR: ', np.round(score_tr, 2))\n",
    "print('TE: ', np.round(score_va, 2))"
   ]
  },
  {
   "cell_type": "markdown",
   "id": "c5f6732f",
   "metadata": {},
   "source": [
    "#### 4.5. Poszukaj sub-optymalnych parametrów modelu używając `GridSearchCV`."
   ]
  },
  {
   "cell_type": "code",
   "execution_count": 26,
   "id": "a33bc031",
   "metadata": {},
   "outputs": [],
   "source": [
    "model_4 = DecisionTreeRegressor()"
   ]
  },
  {
   "cell_type": "code",
   "execution_count": 27,
   "id": "2b04aaa0",
   "metadata": {},
   "outputs": [
    {
     "data": {
      "text/plain": [
       "GridSearchCV(cv=4, estimator=DecisionTreeRegressor(), n_jobs=2,\n",
       "             param_grid={'criterion': ['mse'], 'max_depth': [4, 5, 6, 7, 8],\n",
       "                         'min_samples_leaf': [30, 40, 50],\n",
       "                         'min_samples_split': [0.01, 0.05, 0.1],\n",
       "                         'random_state': [2001]},\n",
       "             scoring='neg_mean_squared_error')"
      ]
     },
     "execution_count": 27,
     "metadata": {},
     "output_type": "execute_result"
    }
   ],
   "source": [
    "gs = GridSearchCV(model_4, parametry, n_jobs=2, scoring='neg_mean_squared_error', cv=4)\n",
    "gs.fit(X_tr, y_tr)"
   ]
  },
  {
   "cell_type": "markdown",
   "id": "1b0ba561",
   "metadata": {},
   "source": [
    "#### 4.6. Naucz nowy model i przeprowadź weryfikację jego jakości."
   ]
  },
  {
   "cell_type": "code",
   "execution_count": 28,
   "id": "b96754a1",
   "metadata": {},
   "outputs": [
    {
     "data": {
      "text/plain": [
       "{'criterion': 'mse',\n",
       " 'max_depth': 6,\n",
       " 'min_samples_leaf': 40,\n",
       " 'min_samples_split': 0.01,\n",
       " 'random_state': 2001}"
      ]
     },
     "execution_count": 28,
     "metadata": {},
     "output_type": "execute_result"
    }
   ],
   "source": [
    "gs.best_params_"
   ]
  },
  {
   "cell_type": "code",
   "execution_count": 29,
   "id": "6b1ae4d2",
   "metadata": {},
   "outputs": [
    {
     "data": {
      "text/plain": [
       "DecisionTreeRegressor(max_depth=6, min_samples_leaf=40, min_samples_split=0.01,\n",
       "                      random_state=2001)"
      ]
     },
     "execution_count": 29,
     "metadata": {},
     "output_type": "execute_result"
    }
   ],
   "source": [
    "model_3 = DecisionTreeRegressor(**gs.best_params_)\n",
    "model_3.fit(X_tr, y_tr)"
   ]
  },
  {
   "cell_type": "code",
   "execution_count": 30,
   "id": "344182a5",
   "metadata": {},
   "outputs": [
    {
     "name": "stdout",
     "output_type": "stream",
     "text": [
      "TR:  32.81\n",
      "TE:  36.29\n"
     ]
    }
   ],
   "source": [
    "pred_tr = model_3.predict(X_tr)\n",
    "pred_va = model_3.predict(X_va)\n",
    "\n",
    "score_tr = mean_squared_error(y_tr, pred_tr, squared=False)\n",
    "score_va = mean_squared_error(y_va, pred_va, squared=False)\n",
    "\n",
    "print('TR: ', np.round(score_tr, 2))\n",
    "print('TE: ', np.round(score_va, 2))"
   ]
  },
  {
   "cell_type": "markdown",
   "id": "d0da6519",
   "metadata": {},
   "source": [
    "#### 4.7. Sprawdź jakie zmienne okazaly się istotne."
   ]
  },
  {
   "cell_type": "code",
   "execution_count": 31,
   "id": "6492fea0",
   "metadata": {},
   "outputs": [
    {
     "data": {
      "text/plain": [
       "education_5. Advanced Degree    0.425441\n",
       "health_ins_1. Yes               0.187477\n",
       "education_4. College Grad       0.127374\n",
       "age                             0.117985\n",
       "maritl_2. Married               0.041219\n",
       "maritl_1. Never Married         0.032277\n",
       "education_3. Some College       0.032038\n",
       "health_ins_2. No                0.021684\n",
       "health_2. >=Very Good           0.006605\n",
       "jobclass_1. Industrial          0.005341\n",
       "education_2. HS Grad            0.002559\n",
       "race_3. Asian                   0.000000\n",
       "race_4. Other                   0.000000\n",
       "education_1. < HS Grad          0.000000\n",
       "race_2. Black                   0.000000\n",
       "dtype: float64"
      ]
     },
     "execution_count": 31,
     "metadata": {},
     "output_type": "execute_result"
    }
   ],
   "source": [
    "pd.Series(model_3.feature_importances_, index=X_tr.columns).sort_values(ascending=False)[0:15]"
   ]
  }
 ],
 "metadata": {
  "kernelspec": {
   "display_name": "Python 3",
   "language": "python",
   "name": "python3"
  },
  "language_info": {
   "codemirror_mode": {
    "name": "ipython",
    "version": 3
   },
   "file_extension": ".py",
   "mimetype": "text/x-python",
   "name": "python",
   "nbconvert_exporter": "python",
   "pygments_lexer": "ipython3",
   "version": "3.8.10"
  }
 },
 "nbformat": 4,
 "nbformat_minor": 5
}
