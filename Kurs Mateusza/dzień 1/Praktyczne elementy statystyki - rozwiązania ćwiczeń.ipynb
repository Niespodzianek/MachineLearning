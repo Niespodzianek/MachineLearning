{
 "cells": [
  {
   "cell_type": "markdown",
   "id": "1a775947",
   "metadata": {},
   "source": [
    "## Import bibliotek."
   ]
  },
  {
   "cell_type": "code",
   "execution_count": 1,
   "id": "8395c343",
   "metadata": {},
   "outputs": [],
   "source": [
    "import pandas as pd\n",
    "import numpy as np\n",
    "import seaborn as sns\n",
    "import matplotlib.pyplot as plt"
   ]
  },
  {
   "cell_type": "markdown",
   "id": "8ac7a4c6",
   "metadata": {},
   "source": [
    "## 1. Wczytanie zbiorów."
   ]
  },
  {
   "cell_type": "code",
   "execution_count": 2,
   "id": "003d2841",
   "metadata": {},
   "outputs": [],
   "source": [
    "tr = pd.read_parquet('dane/tr.parquet') # dane sprzedażowe - TR\n",
    "va = pd.read_parquet('dane/va.parquet') # dane sprzedażowe - VA"
   ]
  },
  {
   "cell_type": "markdown",
   "id": "8c1648d5",
   "metadata": {},
   "source": [
    "## 2. Analiza jednowymiarowa."
   ]
  },
  {
   "cell_type": "markdown",
   "id": "14d74d89",
   "metadata": {},
   "source": [
    "### 2.1. Ćwiczenie 1.\n",
    "* Wczytaj poprawnie zbiór `adult.csv` z katalogu \"dane\". Brakujące wartości zostały oznaczone w nim poprzez \"?\"."
   ]
  },
  {
   "cell_type": "code",
   "execution_count": 3,
   "id": "46e95b13",
   "metadata": {},
   "outputs": [],
   "source": [
    "place = pd.read_csv('dane/adult.csv', na_values='?') # płace"
   ]
  },
  {
   "cell_type": "markdown",
   "id": "c569afea",
   "metadata": {},
   "source": [
    "* Sprawdź, czy zbiór zawiera jakiekolwiek brakujące informacje. Jeśli tak, to dla zmiennej kategorycznych, uzupełnij je wartością \"NA\"."
   ]
  },
  {
   "cell_type": "code",
   "execution_count": 4,
   "id": "6d46ab47",
   "metadata": {},
   "outputs": [
    {
     "data": {
      "text/plain": [
       "age                  0\n",
       "workclass         1836\n",
       "fnlwgt               0\n",
       "education            0\n",
       "education.num        0\n",
       "marital.status       0\n",
       "occupation        1843\n",
       "relationship         0\n",
       "race                 0\n",
       "sex                  0\n",
       "capital.gain         0\n",
       "capital.loss         0\n",
       "hours.per.week       0\n",
       "native.country     583\n",
       "income               0\n",
       "dtype: int64"
      ]
     },
     "execution_count": 4,
     "metadata": {},
     "output_type": "execute_result"
    }
   ],
   "source": [
    "place.isnull().sum()"
   ]
  },
  {
   "cell_type": "code",
   "execution_count": 5,
   "id": "36c1444f",
   "metadata": {},
   "outputs": [],
   "source": [
    "place.fillna('NA', inplace=True)"
   ]
  },
  {
   "cell_type": "markdown",
   "id": "6bcc1621",
   "metadata": {},
   "source": [
    "* Sprawdź liczności w zmiennej \"workclass\". Wszystkie klasy, które stanowią mniej niż 1% zbioru umieść w jednej kategorii o nazwie \"other\"."
   ]
  },
  {
   "cell_type": "code",
   "execution_count": 6,
   "id": "67c9f6f2",
   "metadata": {},
   "outputs": [
    {
     "data": {
      "text/plain": [
       "Private             0.697030\n",
       "Self-emp-not-inc    0.078038\n",
       "Local-gov           0.064279\n",
       "NA                  0.056386\n",
       "State-gov           0.039864\n",
       "Self-emp-inc        0.034274\n",
       "Federal-gov         0.029483\n",
       "Without-pay         0.000430\n",
       "Never-worked        0.000215\n",
       "Name: workclass, dtype: float64"
      ]
     },
     "execution_count": 6,
     "metadata": {},
     "output_type": "execute_result"
    }
   ],
   "source": [
    "place.workclass.value_counts(normalize=True)\n",
    "\n",
    "# Klasy stanowiące mniej niż 1% zbioru: Without-pay, Never-worked -"
   ]
  },
  {
   "cell_type": "code",
   "execution_count": 7,
   "id": "fcb7e000",
   "metadata": {},
   "outputs": [],
   "source": [
    "place['workclass'].replace({\n",
    "    'Without-pay': 'Other',\n",
    "    'Never-worked': 'Other'\n",
    "}, inplace=True)"
   ]
  },
  {
   "cell_type": "code",
   "execution_count": 8,
   "id": "2c33d06e",
   "metadata": {},
   "outputs": [
    {
     "data": {
      "text/plain": [
       "Private             0.697030\n",
       "Self-emp-not-inc    0.078038\n",
       "Local-gov           0.064279\n",
       "NA                  0.056386\n",
       "State-gov           0.039864\n",
       "Self-emp-inc        0.034274\n",
       "Federal-gov         0.029483\n",
       "Other               0.000645\n",
       "Name: workclass, dtype: float64"
      ]
     },
     "execution_count": 8,
     "metadata": {},
     "output_type": "execute_result"
    }
   ],
   "source": [
    "place.workclass.value_counts(normalize=True)"
   ]
  },
  {
   "cell_type": "markdown",
   "id": "0aa211a0",
   "metadata": {},
   "source": [
    "* Korzystając ze zmiennej \"education\" odpowiedz na pytanie, jakie jest najpopularniejsze wykoształcenie w zbiorze."
   ]
  },
  {
   "cell_type": "code",
   "execution_count": 9,
   "id": "ec877ad2",
   "metadata": {},
   "outputs": [
    {
     "data": {
      "text/plain": [
       "HS-grad         10501\n",
       "Some-college     7291\n",
       "Bachelors        5355\n",
       "Masters          1723\n",
       "Assoc-voc        1382\n",
       "11th             1175\n",
       "Assoc-acdm       1067\n",
       "10th              933\n",
       "7th-8th           646\n",
       "Prof-school       576\n",
       "9th               514\n",
       "12th              433\n",
       "Doctorate         413\n",
       "5th-6th           333\n",
       "1st-4th           168\n",
       "Preschool          51\n",
       "Name: education, dtype: int64"
      ]
     },
     "execution_count": 9,
     "metadata": {},
     "output_type": "execute_result"
    }
   ],
   "source": [
    "place.education.value_counts() \n",
    "# Najpopularniejsze wykształcenie w zbiorze S-grad"
   ]
  },
  {
   "cell_type": "markdown",
   "id": "5c9394d4",
   "metadata": {},
   "source": [
    "* Czy w zbiorze mamy więcej osób po rozwodzie, czy bez nigdy niezamężnych/nieżonatych?"
   ]
  },
  {
   "cell_type": "code",
   "execution_count": 10,
   "id": "c8feb4a2",
   "metadata": {},
   "outputs": [
    {
     "data": {
      "text/plain": [
       "Married-civ-spouse       14976\n",
       "Never-married            10683\n",
       "Divorced                  4443\n",
       "Separated                 1025\n",
       "Widowed                    993\n",
       "Married-spouse-absent      418\n",
       "Married-AF-spouse           23\n",
       "Name: marital.status, dtype: int64"
      ]
     },
     "execution_count": 10,
     "metadata": {},
     "output_type": "execute_result"
    }
   ],
   "source": [
    "place['marital.status'].value_counts()\n",
    "# rozwodnicy stanowią mniejszą grupę"
   ]
  },
  {
   "cell_type": "markdown",
   "id": "c5e25d0c",
   "metadata": {},
   "source": [
    "* Czy więcej obserwacji zarabia powyżej, czy poniżej 50 tys. rocznie?"
   ]
  },
  {
   "cell_type": "code",
   "execution_count": 11,
   "id": "ba4bc1c5",
   "metadata": {},
   "outputs": [
    {
     "data": {
      "text/plain": [
       "<=50K    24720\n",
       ">50K      7841\n",
       "Name: income, dtype: int64"
      ]
     },
     "execution_count": 11,
     "metadata": {},
     "output_type": "execute_result"
    }
   ],
   "source": [
    "place.income.value_counts()\n",
    "# ponad 3 razy więcej osób zarabia poniżej $50k"
   ]
  },
  {
   "cell_type": "markdown",
   "id": "c16c9ddd",
   "metadata": {},
   "source": [
    "### 2.2. Ćwiczenie 2.\n",
    "* Z katalogu \"dane\" wczytaj zbiór `data_science_salaries.csv`."
   ]
  },
  {
   "cell_type": "code",
   "execution_count": 12,
   "id": "03805277",
   "metadata": {},
   "outputs": [],
   "source": [
    "zarobki_ds = pd.read_csv('dane/data_science_salaries.csv') # płace w Data Science"
   ]
  },
  {
   "cell_type": "markdown",
   "id": "632453d6",
   "metadata": {},
   "source": [
    "* Załóżmy, że będziemy starali się wyjaśnić co wpływa na poziom zarobków w branży Data Science. Sprawdź na wykresie gęstości rozkład zmiennej celu \"salary_in_usd\"."
   ]
  },
  {
   "cell_type": "code",
   "execution_count": 13,
   "id": "0430d26c",
   "metadata": {},
   "outputs": [
    {
     "data": {
      "image/png": "[encoded data removed]",
      "text/plain": [
       "<Figure size 750x500 with 1 Axes>"
      ]
     },
     "metadata": {},
     "output_type": "display_data"
    }
   ],
   "source": [
    "sns.displot(zarobki_ds.salary_in_usd, kind='kde', fill=True, aspect=1.5)\n",
    "plt.show()"
   ]
  },
  {
   "cell_type": "code",
   "execution_count": 14,
   "id": "6fb09769",
   "metadata": {},
   "outputs": [
    {
     "data": {
      "text/plain": [
       "(5929, 11)"
      ]
     },
     "execution_count": 14,
     "metadata": {},
     "output_type": "execute_result"
    }
   ],
   "source": [
    "zarobki_ds.shape"
   ]
  },
  {
   "cell_type": "markdown",
   "id": "ef9cc3f7",
   "metadata": {},
   "source": [
    "* Czy zmienna celu wymaga logarytmowania ze względu na skośność? A może lepiej usunąć część obserwacji, które zarabiają powyżej 300000 dolarów rocznie?\n",
    "    * Sprawdź oba podejścia na wykresie gęstości (logarytmowanie i usuwanie wartości odstajacych).\n",
    "    * Ile obserwacji stracimy, jeśli zdecydujemy się odrzucić obserwacje zarabiające powyżej 300000 dolarów?\n",
    "    * Jaką część zbioru będą stanowiły te obserwacje?"
   ]
  },
  {
   "cell_type": "code",
   "execution_count": 15,
   "id": "0dd439b8",
   "metadata": {},
   "outputs": [
    {
     "data": {
      "text/plain": [
       "(106, 11)"
      ]
     },
     "execution_count": 15,
     "metadata": {},
     "output_type": "execute_result"
    }
   ],
   "source": [
    "zarobki_ds[zarobki_ds.salary_in_usd>300000].shape\n",
    "# 106 osób zarabia powyżej 300000 dolarów."
   ]
  },
  {
   "cell_type": "code",
   "execution_count": 16,
   "id": "8cff981d",
   "metadata": {},
   "outputs": [
    {
     "data": {
      "text/plain": [
       "0.017878225670433463"
      ]
     },
     "execution_count": 16,
     "metadata": {},
     "output_type": "execute_result"
    }
   ],
   "source": [
    "106/zarobki_ds.shape[0]\n",
    "# usuniemy ok. 1.8% zbioru"
   ]
  },
  {
   "cell_type": "code",
   "execution_count": 18,
   "id": "0010c182",
   "metadata": {},
   "outputs": [
    {
     "data": {
      "image/png": "[encoded data removed]",
      "text/plain": [
       "<Figure size 750x500 with 1 Axes>"
      ]
     },
     "metadata": {},
     "output_type": "display_data"
    }
   ],
   "source": [
    "sns.displot(np.log(zarobki_ds.salary_in_usd), kind='kde', fill=True, aspect=1.5)\n",
    "plt.show()\n",
    "# uzyskaliśmy skośnośc, ale w drugą stronę"
   ]
  },
  {
   "cell_type": "code",
   "execution_count": 19,
   "id": "8c164c4c",
   "metadata": {},
   "outputs": [
    {
     "data": {
      "image/png": "[encoded data removed]",
      "text/plain": [
       "<Figure size 750x500 with 1 Axes>"
      ]
     },
     "metadata": {},
     "output_type": "display_data"
    }
   ],
   "source": [
    "sns.displot(zarobki_ds.query('salary_in_usd<300000').salary_in_usd, kind='kde', fill=True, aspect=1.5)\n",
    "plt.show()\n",
    "# w tej wersji rozkład wygląda znacznie lepiej"
   ]
  },
  {
   "cell_type": "markdown",
   "id": "8a1e3541",
   "metadata": {},
   "source": [
    "* Ogranicz zbiór tylko do obserwacji, które zarabiają poniżej 300000 dolarów rocznie."
   ]
  },
  {
   "cell_type": "code",
   "execution_count": 20,
   "id": "3daa3907",
   "metadata": {},
   "outputs": [],
   "source": [
    "zarobki_ds = zarobki_ds[zarobki_ds.salary_in_usd < 300000]"
   ]
  },
  {
   "cell_type": "markdown",
   "id": "fa5f13a9",
   "metadata": {},
   "source": [
    "### 2.3. Ćwiczenie 3.\n",
    "* Użyj zbioru uczącego, dotyczącego danych sprzeażowych \"Produktu A\" (wczytane do zmiennej `tr`), wykonaj poniższe polecenia i odpowiedz na pytania."
   ]
  },
  {
   "cell_type": "markdown",
   "id": "45214ac4",
   "metadata": {},
   "source": [
    "* Podejrzyj zbiór z użyciem metody `.head()`, by przypomnieć sobie jego strukturę."
   ]
  },
  {
   "cell_type": "code",
   "execution_count": 21,
   "id": "406a3acf",
   "metadata": {},
   "outputs": [
    {
     "data": {
      "text/html": [
       "<div>\n",
       "<style scoped>\n",
       "    .dataframe tbody tr th:only-of-type {\n",
       "        vertical-align: middle;\n",
       "    }\n",
       "\n",
       "    .dataframe tbody tr th {\n",
       "        vertical-align: top;\n",
       "    }\n",
       "\n",
       "    .dataframe thead th {\n",
       "        text-align: right;\n",
       "    }\n",
       "</style>\n",
       "<table border=\"1\" class=\"dataframe\">\n",
       "  <thead>\n",
       "    <tr style=\"text-align: right;\">\n",
       "      <th></th>\n",
       "      <th>data_sprzedazy</th>\n",
       "      <th>data_odciecia</th>\n",
       "      <th>id_drogerii</th>\n",
       "      <th>sprzedaz</th>\n",
       "      <th>cena_ropy</th>\n",
       "      <th>miasto</th>\n",
       "      <th>wojewodztwo</th>\n",
       "      <th>typ_drogerii</th>\n",
       "      <th>srednia_sprzedaz_0_2d</th>\n",
       "      <th>srednia_sprzedaz_0_6d</th>\n",
       "      <th>srednia_sprzedaz_0_13d</th>\n",
       "      <th>srednia_cena_ropy_0_6d</th>\n",
       "      <th>srednia_cena_ropy_0_29d</th>\n",
       "      <th>dzien_tygodnia</th>\n",
       "      <th>weekend</th>\n",
       "      <th>swieto</th>\n",
       "      <th>miesiac</th>\n",
       "      <th>rok_dzialalnosci</th>\n",
       "      <th>sprzedaz_minus_1t</th>\n",
       "    </tr>\n",
       "  </thead>\n",
       "  <tbody>\n",
       "    <tr>\n",
       "      <th>36</th>\n",
       "      <td>2018-02-07</td>\n",
       "      <td>2018-01-31</td>\n",
       "      <td>1</td>\n",
       "      <td>1</td>\n",
       "      <td>96.44</td>\n",
       "      <td>Warszawa</td>\n",
       "      <td>Mazowieckie</td>\n",
       "      <td>D</td>\n",
       "      <td>2.000000</td>\n",
       "      <td>2.428571</td>\n",
       "      <td>2.214286</td>\n",
       "      <td>96.050000</td>\n",
       "      <td>94.531667</td>\n",
       "      <td>Środa</td>\n",
       "      <td>False</td>\n",
       "      <td>False</td>\n",
       "      <td>Luty</td>\n",
       "      <td>1</td>\n",
       "      <td>97.98</td>\n",
       "    </tr>\n",
       "    <tr>\n",
       "      <th>37</th>\n",
       "      <td>2018-02-08</td>\n",
       "      <td>2018-02-01</td>\n",
       "      <td>1</td>\n",
       "      <td>1</td>\n",
       "      <td>95.84</td>\n",
       "      <td>Warszawa</td>\n",
       "      <td>Mazowieckie</td>\n",
       "      <td>D</td>\n",
       "      <td>1.000000</td>\n",
       "      <td>2.428571</td>\n",
       "      <td>2.142857</td>\n",
       "      <td>96.378571</td>\n",
       "      <td>94.682000</td>\n",
       "      <td>Czwartek</td>\n",
       "      <td>False</td>\n",
       "      <td>False</td>\n",
       "      <td>Luty</td>\n",
       "      <td>1</td>\n",
       "      <td>97.65</td>\n",
       "    </tr>\n",
       "    <tr>\n",
       "      <th>38</th>\n",
       "      <td>2018-02-09</td>\n",
       "      <td>2018-02-02</td>\n",
       "      <td>1</td>\n",
       "      <td>2</td>\n",
       "      <td>95.71</td>\n",
       "      <td>Warszawa</td>\n",
       "      <td>Mazowieckie</td>\n",
       "      <td>D</td>\n",
       "      <td>1.333333</td>\n",
       "      <td>2.142857</td>\n",
       "      <td>2.357143</td>\n",
       "      <td>96.708571</td>\n",
       "      <td>94.826000</td>\n",
       "      <td>Piątek</td>\n",
       "      <td>False</td>\n",
       "      <td>False</td>\n",
       "      <td>Luty</td>\n",
       "      <td>1</td>\n",
       "      <td>97.46</td>\n",
       "    </tr>\n",
       "    <tr>\n",
       "      <th>39</th>\n",
       "      <td>2018-02-10</td>\n",
       "      <td>2018-02-03</td>\n",
       "      <td>1</td>\n",
       "      <td>4</td>\n",
       "      <td>95.71</td>\n",
       "      <td>Warszawa</td>\n",
       "      <td>Mazowieckie</td>\n",
       "      <td>D</td>\n",
       "      <td>1.000000</td>\n",
       "      <td>1.571429</td>\n",
       "      <td>2.000000</td>\n",
       "      <td>97.038571</td>\n",
       "      <td>94.975667</td>\n",
       "      <td>Sobota</td>\n",
       "      <td>True</td>\n",
       "      <td>False</td>\n",
       "      <td>Luty</td>\n",
       "      <td>1</td>\n",
       "      <td>97.46</td>\n",
       "    </tr>\n",
       "    <tr>\n",
       "      <th>40</th>\n",
       "      <td>2018-02-11</td>\n",
       "      <td>2018-02-04</td>\n",
       "      <td>1</td>\n",
       "      <td>1</td>\n",
       "      <td>95.71</td>\n",
       "      <td>Warszawa</td>\n",
       "      <td>Mazowieckie</td>\n",
       "      <td>D</td>\n",
       "      <td>1.000000</td>\n",
       "      <td>1.285714</td>\n",
       "      <td>1.785714</td>\n",
       "      <td>97.368571</td>\n",
       "      <td>95.120333</td>\n",
       "      <td>Niedziela</td>\n",
       "      <td>True</td>\n",
       "      <td>False</td>\n",
       "      <td>Luty</td>\n",
       "      <td>1</td>\n",
       "      <td>97.46</td>\n",
       "    </tr>\n",
       "  </tbody>\n",
       "</table>\n",
       "</div>"
      ],
      "text/plain": [
       "   data_sprzedazy data_odciecia  id_drogerii  sprzedaz  cena_ropy    miasto  \\\n",
       "36     2018-02-07    2018-01-31            1         1      96.44  Warszawa   \n",
       "37     2018-02-08    2018-02-01            1         1      95.84  Warszawa   \n",
       "38     2018-02-09    2018-02-02            1         2      95.71  Warszawa   \n",
       "39     2018-02-10    2018-02-03            1         4      95.71  Warszawa   \n",
       "40     2018-02-11    2018-02-04            1         1      95.71  Warszawa   \n",
       "\n",
       "    wojewodztwo typ_drogerii  srednia_sprzedaz_0_2d  srednia_sprzedaz_0_6d  \\\n",
       "36  Mazowieckie            D               2.000000               2.428571   \n",
       "37  Mazowieckie            D               1.000000               2.428571   \n",
       "38  Mazowieckie            D               1.333333               2.142857   \n",
       "39  Mazowieckie            D               1.000000               1.571429   \n",
       "40  Mazowieckie            D               1.000000               1.285714   \n",
       "\n",
       "    srednia_sprzedaz_0_13d  srednia_cena_ropy_0_6d  srednia_cena_ropy_0_29d  \\\n",
       "36                2.214286               96.050000                94.531667   \n",
       "37                2.142857               96.378571                94.682000   \n",
       "38                2.357143               96.708571                94.826000   \n",
       "39                2.000000               97.038571                94.975667   \n",
       "40                1.785714               97.368571                95.120333   \n",
       "\n",
       "   dzien_tygodnia  weekend  swieto miesiac  rok_dzialalnosci  \\\n",
       "36          Środa    False   False    Luty                 1   \n",
       "37       Czwartek    False   False    Luty                 1   \n",
       "38         Piątek    False   False    Luty                 1   \n",
       "39         Sobota     True   False    Luty                 1   \n",
       "40      Niedziela     True   False    Luty                 1   \n",
       "\n",
       "    sprzedaz_minus_1t  \n",
       "36              97.98  \n",
       "37              97.65  \n",
       "38              97.46  \n",
       "39              97.46  \n",
       "40              97.46  "
      ]
     },
     "execution_count": 21,
     "metadata": {},
     "output_type": "execute_result"
    }
   ],
   "source": [
    "tr.head()"
   ]
  },
  {
   "cell_type": "markdown",
   "id": "c6a6f51a",
   "metadata": {},
   "source": [
    "* Na wykresie gęstości podejrzyj rozkład zmiennej celu - \"sprzedaz\". Jakiej statystyki możemy użyć do podsumowania tych danych (wyznaczyć miarę centralną - średnia vs mediana)? Uzasadnij odpowiedź."
   ]
  },
  {
   "cell_type": "code",
   "execution_count": 22,
   "id": "23c01773",
   "metadata": {},
   "outputs": [
    {
     "data": {
      "image/png": "[encoded data removed]",
      "text/plain": [
       "<Figure size 750x500 with 1 Axes>"
      ]
     },
     "metadata": {},
     "output_type": "display_data"
    }
   ],
   "source": [
    "sns.displot(tr.sprzedaz, kind='kde', fill=True, aspect=1.5)\n",
    "plt.show()\n",
    "\n",
    "# zdecydowanie mediana, gdyż rozkład jest prawostronnie skośny"
   ]
  },
  {
   "cell_type": "markdown",
   "id": "4e3c0c74",
   "metadata": {},
   "source": [
    "* Na powyższym wykresie powinieneś dostrzec bimodalność. Jak myslisz, z czego ona wynika? Skorzystaj z metody `.value_counts()`, by sprawdzić, które wartości występowały najczęściej."
   ]
  },
  {
   "cell_type": "code",
   "execution_count": 23,
   "id": "b82a42ca",
   "metadata": {},
   "outputs": [],
   "source": [
    "# Było bardzo dużo dni, kiedy sprzedaż wynosiła 0, stąd pierwsza górka."
   ]
  },
  {
   "cell_type": "markdown",
   "id": "4a69a37f",
   "metadata": {},
   "source": [
    "* Sprawdź rozkład zmiennej \"srednia_cena_ropy_0_29d\". Czy jest w niej coś nietypowego? Opisz jej rozkład."
   ]
  },
  {
   "cell_type": "code",
   "execution_count": 24,
   "id": "c2e11609",
   "metadata": {},
   "outputs": [
    {
     "data": {
      "image/png": "[encoded data removed]",
      "text/plain": [
       "<Figure size 750x500 with 1 Axes>"
      ]
     },
     "metadata": {},
     "output_type": "display_data"
    }
   ],
   "source": [
    "sns.displot(tr.srednia_cena_ropy_0_29d, kind='kde', fill=True, aspect=1.5)\n",
    "plt.show()\n",
    "# Jest to rozkład wielomodalny. Widać podział na dwa duże zagęszczenia cen: jedno w okolicy 55$, a drugie ok. 100$."
   ]
  },
  {
   "cell_type": "markdown",
   "id": "d2f63693",
   "metadata": {},
   "source": [
    "* Korzystając z grupowania, sprawdź, które miasto sprzedało najwięcej produktów. Czy przewaga nad drugim miastem jest znaczna?"
   ]
  },
  {
   "cell_type": "code",
   "execution_count": 25,
   "id": "7c3deee2",
   "metadata": {},
   "outputs": [
    {
     "data": {
      "text/plain": [
       "miasto\n",
       "Warszawa        98815\n",
       "Włocławek       17152\n",
       "Kraków           9351\n",
       "Opole            7432\n",
       "Kielce           7171\n",
       "Lublin           6031\n",
       "Olsztyn          5067\n",
       "Gdańsk           4685\n",
       "Gdynia           4574\n",
       "Radom            4248\n",
       "Łódź             4128\n",
       "Wrocław          3926\n",
       "Poznań           3818\n",
       "Katowice         3270\n",
       "Bydgoszcz        2664\n",
       "Toruń            2613\n",
       "Szczecin         1794\n",
       "Grudziądz        1708\n",
       "Zielona Góra     1478\n",
       "Gliwice          1215\n",
       "Rzeszów          1014\n",
       "Białystok           0\n",
       "Name: sprzedaz, dtype: int64"
      ]
     },
     "execution_count": 25,
     "metadata": {},
     "output_type": "execute_result"
    }
   ],
   "source": [
    "tr.groupby('miasto').sprzedaz.sum().sort_values(ascending=False)\n",
    "# Warszawa"
   ]
  },
  {
   "cell_type": "markdown",
   "id": "06682a45",
   "metadata": {},
   "source": [
    "* Korzystając z metody `describe()` opisz, jak wyglądała przeciętna sprzedaż w Warszawskich drogeriach. Następnie zrób to samo dla trójmiasta. Zwróć uwagę na takie statystyki jak: mediana, 25%, 75%. Czy Warszawskie sklepy rzeczywiście sprzedają znacznie lepiej?"
   ]
  },
  {
   "cell_type": "code",
   "execution_count": 26,
   "id": "4331407b",
   "metadata": {},
   "outputs": [
    {
     "data": {
      "text/plain": [
       "count    16560.000000\n",
       "mean         5.967089\n",
       "std          5.302909\n",
       "min          0.000000\n",
       "25%          2.000000\n",
       "50%          4.000000\n",
       "75%          9.000000\n",
       "max         24.000000\n",
       "Name: sprzedaz, dtype: float64"
      ]
     },
     "execution_count": 26,
     "metadata": {},
     "output_type": "execute_result"
    }
   ],
   "source": [
    "tr.query('miasto==\"Warszawa\"').sprzedaz.describe()"
   ]
  },
  {
   "cell_type": "code",
   "execution_count": 27,
   "id": "869f8591",
   "metadata": {},
   "outputs": [
    {
     "data": {
      "text/plain": [
       "count    1840.000000\n",
       "mean        5.032065\n",
       "std         2.653766\n",
       "min         0.000000\n",
       "25%         3.000000\n",
       "50%         5.000000\n",
       "75%         7.000000\n",
       "max        10.000000\n",
       "Name: sprzedaz, dtype: float64"
      ]
     },
     "execution_count": 27,
     "metadata": {},
     "output_type": "execute_result"
    }
   ],
   "source": [
    "tr[tr.miasto.isin(['Gdańsk', 'Sopot', 'Gdynia'])].sprzedaz.describe()\n",
    "# Sprzedaż jest powrównywalna. Wygląda na to, że w Warszawie jest więcej drogerii niż w trójmieście."
   ]
  },
  {
   "cell_type": "markdown",
   "id": "d87ee212",
   "metadata": {},
   "source": [
    "## 3. Analiza dwuwymiarowa."
   ]
  },
  {
   "cell_type": "markdown",
   "id": "00b3ee53",
   "metadata": {},
   "source": [
    "### 3.1. Ćwiczenie 4.\n",
    "* Spośród poniższych zmiennych zmiennych, sprawdź, które z nich będą najbardziej perspektywistyczne podczas modelowania (najmocniej skorelowane ze zmienną celu)."
   ]
  },
  {
   "cell_type": "code",
   "execution_count": 28,
   "id": "f18ca370",
   "metadata": {},
   "outputs": [],
   "source": [
    "zmienne = ['sprzedaz', 'srednia_sprzedaz_0_2d', 'srednia_sprzedaz_0_6d',\n",
    "           'srednia_sprzedaz_0_13d', 'srednia_cena_ropy_0_6d',\n",
    "           'srednia_cena_ropy_0_29d', 'rok_dzialalnosci', 'sprzedaz_minus_1t']"
   ]
  },
  {
   "cell_type": "code",
   "execution_count": 29,
   "id": "efb92e2d",
   "metadata": {},
   "outputs": [
    {
     "data": {
      "text/plain": [
       "sprzedaz                   1.000000\n",
       "srednia_sprzedaz_0_2d      0.735593\n",
       "srednia_sprzedaz_0_6d      0.766119\n",
       "srednia_sprzedaz_0_13d     0.783053\n",
       "srednia_cena_ropy_0_6d    -0.048006\n",
       "srednia_cena_ropy_0_29d   -0.047540\n",
       "rok_dzialalnosci           0.061205\n",
       "sprzedaz_minus_1t         -0.048134\n",
       "Name: sprzedaz, dtype: float64"
      ]
     },
     "execution_count": 29,
     "metadata": {},
     "output_type": "execute_result"
    }
   ],
   "source": [
    "tr[zmienne].corr()['sprzedaz']"
   ]
  },
  {
   "cell_type": "markdown",
   "id": "34279526",
   "metadata": {},
   "source": [
    "* Spośród zmiennych sprawdź, które są ze sobą mocno skorelowane (współczynnik korelacji > 0.5) i spośród nich wybierz reprezentantów, którzy są najmocniej skorelowani ze zmienną celu. "
   ]
  },
  {
   "cell_type": "code",
   "execution_count": 30,
   "id": "2eb354e2",
   "metadata": {},
   "outputs": [
    {
     "data": {
      "text/html": [
       "<div>\n",
       "<style scoped>\n",
       "    .dataframe tbody tr th:only-of-type {\n",
       "        vertical-align: middle;\n",
       "    }\n",
       "\n",
       "    .dataframe tbody tr th {\n",
       "        vertical-align: top;\n",
       "    }\n",
       "\n",
       "    .dataframe thead th {\n",
       "        text-align: right;\n",
       "    }\n",
       "</style>\n",
       "<table border=\"1\" class=\"dataframe\">\n",
       "  <thead>\n",
       "    <tr style=\"text-align: right;\">\n",
       "      <th></th>\n",
       "      <th>sprzedaz</th>\n",
       "      <th>srednia_sprzedaz_0_2d</th>\n",
       "      <th>srednia_sprzedaz_0_6d</th>\n",
       "      <th>srednia_sprzedaz_0_13d</th>\n",
       "      <th>srednia_cena_ropy_0_6d</th>\n",
       "      <th>srednia_cena_ropy_0_29d</th>\n",
       "      <th>rok_dzialalnosci</th>\n",
       "      <th>sprzedaz_minus_1t</th>\n",
       "    </tr>\n",
       "  </thead>\n",
       "  <tbody>\n",
       "    <tr>\n",
       "      <th>sprzedaz</th>\n",
       "      <td>1.000000</td>\n",
       "      <td>0.735593</td>\n",
       "      <td>0.766119</td>\n",
       "      <td>0.783053</td>\n",
       "      <td>-0.048006</td>\n",
       "      <td>-0.047540</td>\n",
       "      <td>0.061205</td>\n",
       "      <td>-0.048134</td>\n",
       "    </tr>\n",
       "    <tr>\n",
       "      <th>srednia_sprzedaz_0_2d</th>\n",
       "      <td>0.735593</td>\n",
       "      <td>1.000000</td>\n",
       "      <td>0.946984</td>\n",
       "      <td>0.920610</td>\n",
       "      <td>-0.056323</td>\n",
       "      <td>-0.053763</td>\n",
       "      <td>0.065783</td>\n",
       "      <td>-0.056521</td>\n",
       "    </tr>\n",
       "    <tr>\n",
       "      <th>srednia_sprzedaz_0_6d</th>\n",
       "      <td>0.766119</td>\n",
       "      <td>0.946984</td>\n",
       "      <td>1.000000</td>\n",
       "      <td>0.975683</td>\n",
       "      <td>-0.058116</td>\n",
       "      <td>-0.055611</td>\n",
       "      <td>0.069094</td>\n",
       "      <td>-0.058069</td>\n",
       "    </tr>\n",
       "    <tr>\n",
       "      <th>srednia_sprzedaz_0_13d</th>\n",
       "      <td>0.783053</td>\n",
       "      <td>0.920610</td>\n",
       "      <td>0.975683</td>\n",
       "      <td>1.000000</td>\n",
       "      <td>-0.057923</td>\n",
       "      <td>-0.055877</td>\n",
       "      <td>0.070890</td>\n",
       "      <td>-0.057952</td>\n",
       "    </tr>\n",
       "    <tr>\n",
       "      <th>srednia_cena_ropy_0_6d</th>\n",
       "      <td>-0.048006</td>\n",
       "      <td>-0.056323</td>\n",
       "      <td>-0.058116</td>\n",
       "      <td>-0.057923</td>\n",
       "      <td>1.000000</td>\n",
       "      <td>0.991462</td>\n",
       "      <td>-0.795705</td>\n",
       "      <td>0.997669</td>\n",
       "    </tr>\n",
       "    <tr>\n",
       "      <th>srednia_cena_ropy_0_29d</th>\n",
       "      <td>-0.047540</td>\n",
       "      <td>-0.053763</td>\n",
       "      <td>-0.055611</td>\n",
       "      <td>-0.055877</td>\n",
       "      <td>0.991462</td>\n",
       "      <td>1.000000</td>\n",
       "      <td>-0.800862</td>\n",
       "      <td>0.986274</td>\n",
       "    </tr>\n",
       "    <tr>\n",
       "      <th>rok_dzialalnosci</th>\n",
       "      <td>0.061205</td>\n",
       "      <td>0.065783</td>\n",
       "      <td>0.069094</td>\n",
       "      <td>0.070890</td>\n",
       "      <td>-0.795705</td>\n",
       "      <td>-0.800862</td>\n",
       "      <td>1.000000</td>\n",
       "      <td>-0.793860</td>\n",
       "    </tr>\n",
       "    <tr>\n",
       "      <th>sprzedaz_minus_1t</th>\n",
       "      <td>-0.048134</td>\n",
       "      <td>-0.056521</td>\n",
       "      <td>-0.058069</td>\n",
       "      <td>-0.057952</td>\n",
       "      <td>0.997669</td>\n",
       "      <td>0.986274</td>\n",
       "      <td>-0.793860</td>\n",
       "      <td>1.000000</td>\n",
       "    </tr>\n",
       "  </tbody>\n",
       "</table>\n",
       "</div>"
      ],
      "text/plain": [
       "                         sprzedaz  srednia_sprzedaz_0_2d  \\\n",
       "sprzedaz                 1.000000               0.735593   \n",
       "srednia_sprzedaz_0_2d    0.735593               1.000000   \n",
       "srednia_sprzedaz_0_6d    0.766119               0.946984   \n",
       "srednia_sprzedaz_0_13d   0.783053               0.920610   \n",
       "srednia_cena_ropy_0_6d  -0.048006              -0.056323   \n",
       "srednia_cena_ropy_0_29d -0.047540              -0.053763   \n",
       "rok_dzialalnosci         0.061205               0.065783   \n",
       "sprzedaz_minus_1t       -0.048134              -0.056521   \n",
       "\n",
       "                         srednia_sprzedaz_0_6d  srednia_sprzedaz_0_13d  \\\n",
       "sprzedaz                              0.766119                0.783053   \n",
       "srednia_sprzedaz_0_2d                 0.946984                0.920610   \n",
       "srednia_sprzedaz_0_6d                 1.000000                0.975683   \n",
       "srednia_sprzedaz_0_13d                0.975683                1.000000   \n",
       "srednia_cena_ropy_0_6d               -0.058116               -0.057923   \n",
       "srednia_cena_ropy_0_29d              -0.055611               -0.055877   \n",
       "rok_dzialalnosci                      0.069094                0.070890   \n",
       "sprzedaz_minus_1t                    -0.058069               -0.057952   \n",
       "\n",
       "                         srednia_cena_ropy_0_6d  srednia_cena_ropy_0_29d  \\\n",
       "sprzedaz                              -0.048006                -0.047540   \n",
       "srednia_sprzedaz_0_2d                 -0.056323                -0.053763   \n",
       "srednia_sprzedaz_0_6d                 -0.058116                -0.055611   \n",
       "srednia_sprzedaz_0_13d                -0.057923                -0.055877   \n",
       "srednia_cena_ropy_0_6d                 1.000000                 0.991462   \n",
       "srednia_cena_ropy_0_29d                0.991462                 1.000000   \n",
       "rok_dzialalnosci                      -0.795705                -0.800862   \n",
       "sprzedaz_minus_1t                      0.997669                 0.986274   \n",
       "\n",
       "                         rok_dzialalnosci  sprzedaz_minus_1t  \n",
       "sprzedaz                         0.061205          -0.048134  \n",
       "srednia_sprzedaz_0_2d            0.065783          -0.056521  \n",
       "srednia_sprzedaz_0_6d            0.069094          -0.058069  \n",
       "srednia_sprzedaz_0_13d           0.070890          -0.057952  \n",
       "srednia_cena_ropy_0_6d          -0.795705           0.997669  \n",
       "srednia_cena_ropy_0_29d         -0.800862           0.986274  \n",
       "rok_dzialalnosci                 1.000000          -0.793860  \n",
       "sprzedaz_minus_1t               -0.793860           1.000000  "
      ]
     },
     "execution_count": 30,
     "metadata": {},
     "output_type": "execute_result"
    }
   ],
   "source": [
    "tr[zmienne].corr()"
   ]
  },
  {
   "cell_type": "code",
   "execution_count": 31,
   "id": "49fd74b5",
   "metadata": {},
   "outputs": [],
   "source": [
    "# Najmocniej skorelowana ze zmienną celu: srednia_sprzedaz_0_13d - 0.783053\n",
    "    # wspóskorelowane: srednia_sprzedaz_0_2d, srednia_sprzedaz_0_6d\n",
    "    \n",
    "# Zmienna do sprawdzenia: srednia_cena_ropy_0_6d - mocniej skorelowana ze zmienną celu niż srednia_cena_ropy_0_29d\n",
    "# rok_dzialalnosci - z każdym rokiem sprzedaż nieco wzrasta."
   ]
  },
  {
   "cell_type": "markdown",
   "id": "a0c80451",
   "metadata": {},
   "source": [
    "### 3.2. Ćwiczenie 5."
   ]
  },
  {
   "cell_type": "code",
   "execution_count": 32,
   "id": "a17dd682",
   "metadata": {},
   "outputs": [],
   "source": [
    "zarobki_ds = pd.read_csv('dane/data_science_salaries.csv') # płace w Data Science\n",
    "zarobki_ds = zarobki_ds[zarobki_ds.salary_in_usd < 300000]"
   ]
  },
  {
   "cell_type": "markdown",
   "id": "c5bd3ebe",
   "metadata": {},
   "source": [
    "* Czy duże firmy płacą pracownikom więcej niż średnie?"
   ]
  },
  {
   "cell_type": "code",
   "execution_count": 33,
   "id": "ef43891a",
   "metadata": {},
   "outputs": [
    {
     "data": {
      "image/png": "[encoded data removed]",
      "text/plain": [
       "<Figure size 609.111x500 with 1 Axes>"
      ]
     },
     "metadata": {},
     "output_type": "display_data"
    }
   ],
   "source": [
    "sns.displot(data=zarobki_ds,\n",
    "            x='salary_in_usd',\n",
    "            hue='company_size', \n",
    "            kind='kde',\n",
    "            fill=True\n",
    ")\n",
    "plt.show()"
   ]
  },
  {
   "cell_type": "code",
   "execution_count": 34,
   "id": "56d20130",
   "metadata": {},
   "outputs": [
    {
     "data": {
      "image/png": "[encoded data removed]",
      "text/plain": [
       "<Figure size 640x480 with 1 Axes>"
      ]
     },
     "metadata": {},
     "output_type": "display_data"
    }
   ],
   "source": [
    "sns.barplot(data=zarobki_ds,\n",
    "            x='company_size',\n",
    "            y='salary_in_usd',\n",
    "            estimator='mean', \n",
    "            errorbar=('ci', 95) \n",
    ")\n",
    "plt.show()\n",
    "# najwięcej (przeciętnie) płacą średnie firmy, tj. \"M\""
   ]
  },
  {
   "cell_type": "markdown",
   "id": "10b70bcc",
   "metadata": {},
   "source": [
    "* Sprawdź jak w firmach o różnych rozmiarach (\"company_size\"), poziomy pracy zdalnej (\"remote_ratio\") wpływa na zarobki (\"salary_in_usd\"). Czy można mówić tu o interakcji?"
   ]
  },
  {
   "cell_type": "code",
   "execution_count": 35,
   "id": "3bca627c",
   "metadata": {},
   "outputs": [
    {
     "data": {
      "text/plain": [
       "company_size  remote_ratio\n",
       "L             0               155529.514768\n",
       "              50               83082.898305\n",
       "              100             117826.534188\n",
       "M             0               149724.775833\n",
       "              50               70345.063830\n",
       "              100             144674.537073\n",
       "S             0               100538.800000\n",
       "              50               78173.200000\n",
       "              100              84000.086957\n",
       "Name: salary_in_usd, dtype: float64"
      ]
     },
     "execution_count": 35,
     "metadata": {},
     "output_type": "execute_result"
    }
   ],
   "source": [
    "zarobki_ds.groupby(['company_size', 'remote_ratio']).salary_in_usd.mean()\n",
    "\n",
    "# we wszystkich firmach trend jest zbliżony:\n",
    "    # osoby pracujące \"on-site\" zarabiają nawięcej\n",
    "    # osoby pracujące hybrydowo zarabiają najmniej\n",
    "    # osoby pracujące 100% zdalnie znajdują się pomiędzy obiema grupami"
   ]
  },
  {
   "cell_type": "markdown",
   "id": "f938175c",
   "metadata": {},
   "source": [
    "### 3.3. Ćwiczenie 6.\n",
    "Korzystając z poniższego zbioru odpowiedz na niżej zamieszczone pytania."
   ]
  },
  {
   "cell_type": "code",
   "execution_count": 36,
   "id": "c9576e19",
   "metadata": {},
   "outputs": [],
   "source": [
    "place = pd.read_csv('dane/adult.csv', na_values='?') # płace"
   ]
  },
  {
   "cell_type": "markdown",
   "id": "cfa88499",
   "metadata": {},
   "source": [
    "* Czym charakteryzują się osoby dobrze zarabiające?"
   ]
  },
  {
   "cell_type": "code",
   "execution_count": 37,
   "id": "1aa0eaf8",
   "metadata": {},
   "outputs": [
    {
     "data": {
      "text/plain": [
       "<=50K    0.75919\n",
       ">50K     0.24081\n",
       "Name: income, dtype: float64"
      ]
     },
     "execution_count": 37,
     "metadata": {},
     "output_type": "execute_result"
    }
   ],
   "source": [
    "place.income.value_counts(normalize=True)\n",
    "# 24% zarabia powyżej 50K"
   ]
  },
  {
   "cell_type": "code",
   "execution_count": 38,
   "id": "39c84b98",
   "metadata": {},
   "outputs": [
    {
     "data": {
      "image/png": "[encoded data removed]",
      "text/plain": [
       "<Figure size 599.75x500 with 1 Axes>"
      ]
     },
     "metadata": {},
     "output_type": "display_data"
    }
   ],
   "source": [
    "sns.displot(data=place,\n",
    "            x='age',\n",
    "            kind='kde',\n",
    "            fill=True,\n",
    "            hue='income')\n",
    "plt.show()\n",
    "# dobrze zarabiający posiadają już pewien staż - nie są to młodziaki (studia?_"
   ]
  },
  {
   "cell_type": "code",
   "execution_count": 39,
   "id": "f62e625f",
   "metadata": {},
   "outputs": [
    {
     "data": {
      "image/png": "[encoded data removed]",
      "text/plain": [
       "<Figure size 599.75x500 with 1 Axes>"
      ]
     },
     "metadata": {},
     "output_type": "display_data"
    }
   ],
   "source": [
    "sns.displot(data=place,\n",
    "            x='hours.per.week',\n",
    "            kind='kde',\n",
    "            fill=True,\n",
    "            hue='income')\n",
    "plt.show()"
   ]
  },
  {
   "cell_type": "code",
   "execution_count": 40,
   "id": "226df53f",
   "metadata": {},
   "outputs": [
    {
     "data": {
      "text/html": [
       "<div>\n",
       "<style scoped>\n",
       "    .dataframe tbody tr th:only-of-type {\n",
       "        vertical-align: middle;\n",
       "    }\n",
       "\n",
       "    .dataframe tbody tr th {\n",
       "        vertical-align: top;\n",
       "    }\n",
       "\n",
       "    .dataframe thead th {\n",
       "        text-align: right;\n",
       "    }\n",
       "</style>\n",
       "<table border=\"1\" class=\"dataframe\">\n",
       "  <thead>\n",
       "    <tr style=\"text-align: right;\">\n",
       "      <th>income</th>\n",
       "      <th>&lt;=50K</th>\n",
       "      <th>&gt;50K</th>\n",
       "    </tr>\n",
       "    <tr>\n",
       "      <th>workclass</th>\n",
       "      <th></th>\n",
       "      <th></th>\n",
       "    </tr>\n",
       "  </thead>\n",
       "  <tbody>\n",
       "    <tr>\n",
       "      <th>Federal-gov</th>\n",
       "      <td>61.354167</td>\n",
       "      <td>38.645833</td>\n",
       "    </tr>\n",
       "    <tr>\n",
       "      <th>Local-gov</th>\n",
       "      <td>70.520784</td>\n",
       "      <td>29.479216</td>\n",
       "    </tr>\n",
       "    <tr>\n",
       "      <th>Never-worked</th>\n",
       "      <td>100.000000</td>\n",
       "      <td>0.000000</td>\n",
       "    </tr>\n",
       "    <tr>\n",
       "      <th>Private</th>\n",
       "      <td>78.132711</td>\n",
       "      <td>21.867289</td>\n",
       "    </tr>\n",
       "    <tr>\n",
       "      <th>Self-emp-inc</th>\n",
       "      <td>44.265233</td>\n",
       "      <td>55.734767</td>\n",
       "    </tr>\n",
       "    <tr>\n",
       "      <th>Self-emp-not-inc</th>\n",
       "      <td>71.507281</td>\n",
       "      <td>28.492719</td>\n",
       "    </tr>\n",
       "    <tr>\n",
       "      <th>State-gov</th>\n",
       "      <td>72.804314</td>\n",
       "      <td>27.195686</td>\n",
       "    </tr>\n",
       "    <tr>\n",
       "      <th>Without-pay</th>\n",
       "      <td>100.000000</td>\n",
       "      <td>0.000000</td>\n",
       "    </tr>\n",
       "  </tbody>\n",
       "</table>\n",
       "</div>"
      ],
      "text/plain": [
       "income                 <=50K       >50K\n",
       "workclass                              \n",
       "Federal-gov        61.354167  38.645833\n",
       "Local-gov          70.520784  29.479216\n",
       "Never-worked      100.000000   0.000000\n",
       "Private            78.132711  21.867289\n",
       "Self-emp-inc       44.265233  55.734767\n",
       "Self-emp-not-inc   71.507281  28.492719\n",
       "State-gov          72.804314  27.195686\n",
       "Without-pay       100.000000   0.000000"
      ]
     },
     "execution_count": 40,
     "metadata": {},
     "output_type": "execute_result"
    }
   ],
   "source": [
    "pd.crosstab(place.workclass, place.income, normalize='index')*100\n",
    "# Znakomicie zarabiający:\n",
    "#    - Self-emp-inc 55 vs 45\n",
    "#    - Federal-gov  39 vs 61"
   ]
  },
  {
   "cell_type": "code",
   "execution_count": 41,
   "id": "ecf7ec69",
   "metadata": {},
   "outputs": [
    {
     "data": {
      "text/html": [
       "<div>\n",
       "<style scoped>\n",
       "    .dataframe tbody tr th:only-of-type {\n",
       "        vertical-align: middle;\n",
       "    }\n",
       "\n",
       "    .dataframe tbody tr th {\n",
       "        vertical-align: top;\n",
       "    }\n",
       "\n",
       "    .dataframe thead th {\n",
       "        text-align: right;\n",
       "    }\n",
       "</style>\n",
       "<table border=\"1\" class=\"dataframe\">\n",
       "  <thead>\n",
       "    <tr style=\"text-align: right;\">\n",
       "      <th>income</th>\n",
       "      <th>&lt;=50K</th>\n",
       "      <th>&gt;50K</th>\n",
       "    </tr>\n",
       "    <tr>\n",
       "      <th>education</th>\n",
       "      <th></th>\n",
       "      <th></th>\n",
       "    </tr>\n",
       "  </thead>\n",
       "  <tbody>\n",
       "    <tr>\n",
       "      <th>Doctorate</th>\n",
       "      <td>25.907990</td>\n",
       "      <td>74.092010</td>\n",
       "    </tr>\n",
       "    <tr>\n",
       "      <th>Prof-school</th>\n",
       "      <td>26.562500</td>\n",
       "      <td>73.437500</td>\n",
       "    </tr>\n",
       "    <tr>\n",
       "      <th>Masters</th>\n",
       "      <td>44.341265</td>\n",
       "      <td>55.658735</td>\n",
       "    </tr>\n",
       "    <tr>\n",
       "      <th>Bachelors</th>\n",
       "      <td>58.524743</td>\n",
       "      <td>41.475257</td>\n",
       "    </tr>\n",
       "    <tr>\n",
       "      <th>Assoc-voc</th>\n",
       "      <td>73.878437</td>\n",
       "      <td>26.121563</td>\n",
       "    </tr>\n",
       "    <tr>\n",
       "      <th>Assoc-acdm</th>\n",
       "      <td>75.164011</td>\n",
       "      <td>24.835989</td>\n",
       "    </tr>\n",
       "    <tr>\n",
       "      <th>Some-college</th>\n",
       "      <td>80.976546</td>\n",
       "      <td>19.023454</td>\n",
       "    </tr>\n",
       "    <tr>\n",
       "      <th>HS-grad</th>\n",
       "      <td>84.049138</td>\n",
       "      <td>15.950862</td>\n",
       "    </tr>\n",
       "    <tr>\n",
       "      <th>12th</th>\n",
       "      <td>92.378753</td>\n",
       "      <td>7.621247</td>\n",
       "    </tr>\n",
       "    <tr>\n",
       "      <th>10th</th>\n",
       "      <td>93.354770</td>\n",
       "      <td>6.645230</td>\n",
       "    </tr>\n",
       "    <tr>\n",
       "      <th>7th-8th</th>\n",
       "      <td>93.808050</td>\n",
       "      <td>6.191950</td>\n",
       "    </tr>\n",
       "    <tr>\n",
       "      <th>9th</th>\n",
       "      <td>94.747082</td>\n",
       "      <td>5.252918</td>\n",
       "    </tr>\n",
       "    <tr>\n",
       "      <th>11th</th>\n",
       "      <td>94.893617</td>\n",
       "      <td>5.106383</td>\n",
       "    </tr>\n",
       "    <tr>\n",
       "      <th>5th-6th</th>\n",
       "      <td>95.195195</td>\n",
       "      <td>4.804805</td>\n",
       "    </tr>\n",
       "    <tr>\n",
       "      <th>1st-4th</th>\n",
       "      <td>96.428571</td>\n",
       "      <td>3.571429</td>\n",
       "    </tr>\n",
       "    <tr>\n",
       "      <th>Preschool</th>\n",
       "      <td>100.000000</td>\n",
       "      <td>0.000000</td>\n",
       "    </tr>\n",
       "  </tbody>\n",
       "</table>\n",
       "</div>"
      ],
      "text/plain": [
       "income             <=50K       >50K\n",
       "education                          \n",
       "Doctorate      25.907990  74.092010\n",
       "Prof-school    26.562500  73.437500\n",
       "Masters        44.341265  55.658735\n",
       "Bachelors      58.524743  41.475257\n",
       "Assoc-voc      73.878437  26.121563\n",
       "Assoc-acdm     75.164011  24.835989\n",
       "Some-college   80.976546  19.023454\n",
       "HS-grad        84.049138  15.950862\n",
       "12th           92.378753   7.621247\n",
       "10th           93.354770   6.645230\n",
       "7th-8th        93.808050   6.191950\n",
       "9th            94.747082   5.252918\n",
       "11th           94.893617   5.106383\n",
       "5th-6th        95.195195   4.804805\n",
       "1st-4th        96.428571   3.571429\n",
       "Preschool     100.000000   0.000000"
      ]
     },
     "execution_count": 41,
     "metadata": {},
     "output_type": "execute_result"
    }
   ],
   "source": [
    "(pd.crosstab(place.education, place.income, normalize='index')*100) \\\n",
    "    .sort_values('>50K', ascending=False)\n",
    "# Znakomicie zarabiający:\n",
    "#   - Doctorate\n",
    "#   - Prof-school\n",
    "#   - Masters\n",
    "#   Warto się uczyć."
   ]
  },
  {
   "cell_type": "code",
   "execution_count": 42,
   "id": "5e8a0c93",
   "metadata": {},
   "outputs": [
    {
     "data": {
      "text/html": [
       "<div>\n",
       "<style scoped>\n",
       "    .dataframe tbody tr th:only-of-type {\n",
       "        vertical-align: middle;\n",
       "    }\n",
       "\n",
       "    .dataframe tbody tr th {\n",
       "        vertical-align: top;\n",
       "    }\n",
       "\n",
       "    .dataframe thead th {\n",
       "        text-align: right;\n",
       "    }\n",
       "</style>\n",
       "<table border=\"1\" class=\"dataframe\">\n",
       "  <thead>\n",
       "    <tr style=\"text-align: right;\">\n",
       "      <th>income</th>\n",
       "      <th>&lt;=50K</th>\n",
       "      <th>&gt;50K</th>\n",
       "    </tr>\n",
       "    <tr>\n",
       "      <th>race</th>\n",
       "      <th></th>\n",
       "      <th></th>\n",
       "    </tr>\n",
       "  </thead>\n",
       "  <tbody>\n",
       "    <tr>\n",
       "      <th>Asian-Pac-Islander</th>\n",
       "      <td>73.435996</td>\n",
       "      <td>26.564004</td>\n",
       "    </tr>\n",
       "    <tr>\n",
       "      <th>White</th>\n",
       "      <td>74.414006</td>\n",
       "      <td>25.585994</td>\n",
       "    </tr>\n",
       "    <tr>\n",
       "      <th>Black</th>\n",
       "      <td>87.612036</td>\n",
       "      <td>12.387964</td>\n",
       "    </tr>\n",
       "    <tr>\n",
       "      <th>Amer-Indian-Eskimo</th>\n",
       "      <td>88.424437</td>\n",
       "      <td>11.575563</td>\n",
       "    </tr>\n",
       "    <tr>\n",
       "      <th>Other</th>\n",
       "      <td>90.774908</td>\n",
       "      <td>9.225092</td>\n",
       "    </tr>\n",
       "  </tbody>\n",
       "</table>\n",
       "</div>"
      ],
      "text/plain": [
       "income                  <=50K       >50K\n",
       "race                                    \n",
       "Asian-Pac-Islander  73.435996  26.564004\n",
       "White               74.414006  25.585994\n",
       "Black               87.612036  12.387964\n",
       "Amer-Indian-Eskimo  88.424437  11.575563\n",
       "Other               90.774908   9.225092"
      ]
     },
     "execution_count": 42,
     "metadata": {},
     "output_type": "execute_result"
    }
   ],
   "source": [
    "(pd.crosstab(place.race, place.income, normalize='index')*100) \\\n",
    "    .sort_values('>50K', ascending=False)\n",
    "# Azjaci zarabiają najwięcej"
   ]
  },
  {
   "cell_type": "code",
   "execution_count": 43,
   "id": "8a3a06d6",
   "metadata": {},
   "outputs": [
    {
     "data": {
      "text/html": [
       "<div>\n",
       "<style scoped>\n",
       "    .dataframe tbody tr th:only-of-type {\n",
       "        vertical-align: middle;\n",
       "    }\n",
       "\n",
       "    .dataframe tbody tr th {\n",
       "        vertical-align: top;\n",
       "    }\n",
       "\n",
       "    .dataframe thead th {\n",
       "        text-align: right;\n",
       "    }\n",
       "</style>\n",
       "<table border=\"1\" class=\"dataframe\">\n",
       "  <thead>\n",
       "    <tr style=\"text-align: right;\">\n",
       "      <th>income</th>\n",
       "      <th>&lt;=50K</th>\n",
       "      <th>&gt;50K</th>\n",
       "    </tr>\n",
       "    <tr>\n",
       "      <th>marital.status</th>\n",
       "      <th></th>\n",
       "      <th></th>\n",
       "    </tr>\n",
       "  </thead>\n",
       "  <tbody>\n",
       "    <tr>\n",
       "      <th>Married-civ-spouse</th>\n",
       "      <td>55.315171</td>\n",
       "      <td>44.684829</td>\n",
       "    </tr>\n",
       "    <tr>\n",
       "      <th>Married-AF-spouse</th>\n",
       "      <td>56.521739</td>\n",
       "      <td>43.478261</td>\n",
       "    </tr>\n",
       "    <tr>\n",
       "      <th>Divorced</th>\n",
       "      <td>89.579113</td>\n",
       "      <td>10.420887</td>\n",
       "    </tr>\n",
       "    <tr>\n",
       "      <th>Widowed</th>\n",
       "      <td>91.440081</td>\n",
       "      <td>8.559919</td>\n",
       "    </tr>\n",
       "    <tr>\n",
       "      <th>Married-spouse-absent</th>\n",
       "      <td>91.866029</td>\n",
       "      <td>8.133971</td>\n",
       "    </tr>\n",
       "    <tr>\n",
       "      <th>Separated</th>\n",
       "      <td>93.560976</td>\n",
       "      <td>6.439024</td>\n",
       "    </tr>\n",
       "    <tr>\n",
       "      <th>Never-married</th>\n",
       "      <td>95.403913</td>\n",
       "      <td>4.596087</td>\n",
       "    </tr>\n",
       "  </tbody>\n",
       "</table>\n",
       "</div>"
      ],
      "text/plain": [
       "income                     <=50K       >50K\n",
       "marital.status                             \n",
       "Married-civ-spouse     55.315171  44.684829\n",
       "Married-AF-spouse      56.521739  43.478261\n",
       "Divorced               89.579113  10.420887\n",
       "Widowed                91.440081   8.559919\n",
       "Married-spouse-absent  91.866029   8.133971\n",
       "Separated              93.560976   6.439024\n",
       "Never-married          95.403913   4.596087"
      ]
     },
     "execution_count": 43,
     "metadata": {},
     "output_type": "execute_result"
    }
   ],
   "source": [
    "(pd.crosstab(place['marital.status'], place.income, normalize='index')*100) \\\n",
    "    .sort_values('>50K', ascending=False)\n",
    "# żonaci i zamężne zarabiają zdecydowanie najwięcej"
   ]
  }
 ],
 "metadata": {
  "kernelspec": {
   "display_name": "Python 3",
   "language": "python",
   "name": "python3"
  },
  "language_info": {
   "codemirror_mode": {
    "name": "ipython",
    "version": 3
   },
   "file_extension": ".py",
   "mimetype": "text/x-python",
   "name": "python",
   "nbconvert_exporter": "python",
   "pygments_lexer": "ipython3",
   "version": "3.8.10"
  }
 },
 "nbformat": 4,
 "nbformat_minor": 5
}
